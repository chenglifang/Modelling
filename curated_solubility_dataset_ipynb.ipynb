{
  "nbformat": 4,
  "nbformat_minor": 0,
  "metadata": {
    "colab": {
      "provenance": [],
      "toc_visible": true
    },
    "kernelspec": {
      "name": "python3",
      "display_name": "Python 3"
    },
    "language_info": {
      "name": "python"
    }
  },
  "cells": [
    {
      "cell_type": "code",
      "execution_count": null,
      "metadata": {
        "colab": {
          "base_uri": "https://localhost:8080/"
        },
        "id": "-ma9nJA9wmV1",
        "outputId": "29c5102b-fce3-40d0-b92b-adb97a36d9ba"
      },
      "outputs": [
        {
          "output_type": "stream",
          "name": "stdout",
          "text": [
            "Requirement already satisfied: scikit-learn in /usr/local/lib/python3.11/dist-packages (1.6.1)\n",
            "Requirement already satisfied: numpy>=1.19.5 in /usr/local/lib/python3.11/dist-packages (from scikit-learn) (2.0.2)\n",
            "Requirement already satisfied: scipy>=1.6.0 in /usr/local/lib/python3.11/dist-packages (from scikit-learn) (1.14.1)\n",
            "Requirement already satisfied: joblib>=1.2.0 in /usr/local/lib/python3.11/dist-packages (from scikit-learn) (1.4.2)\n",
            "Requirement already satisfied: threadpoolctl>=3.1.0 in /usr/local/lib/python3.11/dist-packages (from scikit-learn) (3.6.0)\n"
          ]
        }
      ],
      "source": [
        "! pip install scikit-learn"
      ]
    },
    {
      "cell_type": "code",
      "source": [
        "! pip install numpy"
      ],
      "metadata": {
        "colab": {
          "base_uri": "https://localhost:8080/"
        },
        "id": "BqqyneBbw1Fy",
        "outputId": "88540936-7d1b-4430-e684-c54be4411b7b"
      },
      "execution_count": null,
      "outputs": [
        {
          "output_type": "stream",
          "name": "stdout",
          "text": [
            "Requirement already satisfied: numpy in /usr/local/lib/python3.11/dist-packages (2.0.2)\n"
          ]
        }
      ]
    },
    {
      "cell_type": "code",
      "source": [
        "! pip install joblib"
      ],
      "metadata": {
        "colab": {
          "base_uri": "https://localhost:8080/"
        },
        "id": "bjB-0H0hw3qn",
        "outputId": "db661b3b-1a49-4501-86a9-693433d53856"
      },
      "execution_count": null,
      "outputs": [
        {
          "output_type": "stream",
          "name": "stdout",
          "text": [
            "Requirement already satisfied: joblib in /usr/local/lib/python3.11/dist-packages (1.4.2)\n"
          ]
        }
      ]
    },
    {
      "cell_type": "code",
      "source": [
        "!pip install rdkit"
      ],
      "metadata": {
        "colab": {
          "base_uri": "https://localhost:8080/"
        },
        "id": "Sezf3gfQBdb7",
        "outputId": "10175cd9-12d6-4454-eda3-553240b1a7b8"
      },
      "execution_count": null,
      "outputs": [
        {
          "output_type": "stream",
          "name": "stdout",
          "text": [
            "Collecting rdkit\n",
            "  Downloading rdkit-2024.9.6-cp311-cp311-manylinux_2_28_x86_64.whl.metadata (4.0 kB)\n",
            "Requirement already satisfied: numpy in /usr/local/lib/python3.11/dist-packages (from rdkit) (2.0.2)\n",
            "Requirement already satisfied: Pillow in /usr/local/lib/python3.11/dist-packages (from rdkit) (11.1.0)\n",
            "Downloading rdkit-2024.9.6-cp311-cp311-manylinux_2_28_x86_64.whl (34.3 MB)\n",
            "\u001b[2K   \u001b[90m━━━━━━━━━━━━━━━━━━━━━━━━━━━━━━━━━━━━━━━━\u001b[0m \u001b[32m34.3/34.3 MB\u001b[0m \u001b[31m12.9 MB/s\u001b[0m eta \u001b[36m0:00:00\u001b[0m\n",
            "\u001b[?25hInstalling collected packages: rdkit\n",
            "Successfully installed rdkit-2024.9.6\n"
          ]
        }
      ]
    },
    {
      "cell_type": "code",
      "source": [
        "import numpy as np\n",
        "import pandas as pd\n",
        "import matplotlib.pyplot as plt\n",
        "from sklearn.svm import SVC\n",
        "from sklearn.ensemble import RandomForestClassifier, GradientBoostingClassifier\n",
        "from sklearn.model_selection import train_test_split, StratifiedKFold, GridSearchCV\n",
        "from sklearn.preprocessing import StandardScaler, LabelEncoder\n",
        "from sklearn.metrics import accuracy_score, cohen_kappa_score, matthews_corrcoef\n",
        "import joblib"
      ],
      "metadata": {
        "id": "t-RkUfmYw-JO"
      },
      "execution_count": null,
      "outputs": []
    },
    {
      "cell_type": "markdown",
      "source": [
        "# Read data from CSV："
      ],
      "metadata": {
        "id": "wCcezzZ5xcoy"
      }
    },
    {
      "cell_type": "code",
      "source": [
        "from google.colab import files\n",
        "uploaded = files.upload()\n",
        "# This code allows uploading files from the local system to Colab for later file reading\n",
        "\n",
        "df = pd.read_csv(\"curated-solubility-dataset.csv\", header=0) # Read the CSV file\n",
        "print(df.head()) # View the first 5 rows of the data"
      ],
      "metadata": {
        "colab": {
          "base_uri": "https://localhost:8080/",
          "height": 967
        },
        "id": "idMC8h5RxeFu",
        "outputId": "cb63d42d-b4ca-4b0d-bff5-4718d6774438"
      },
      "execution_count": null,
      "outputs": [
        {
          "output_type": "display_data",
          "data": {
            "text/plain": [
              "<IPython.core.display.HTML object>"
            ],
            "text/html": [
              "\n",
              "     <input type=\"file\" id=\"files-7ffeb3a9-9581-464e-97dc-f9b41a1d1061\" name=\"files[]\" multiple disabled\n",
              "        style=\"border:none\" />\n",
              "     <output id=\"result-7ffeb3a9-9581-464e-97dc-f9b41a1d1061\">\n",
              "      Upload widget is only available when the cell has been executed in the\n",
              "      current browser session. Please rerun this cell to enable.\n",
              "      </output>\n",
              "      <script>// Copyright 2017 Google LLC\n",
              "//\n",
              "// Licensed under the Apache License, Version 2.0 (the \"License\");\n",
              "// you may not use this file except in compliance with the License.\n",
              "// You may obtain a copy of the License at\n",
              "//\n",
              "//      http://www.apache.org/licenses/LICENSE-2.0\n",
              "//\n",
              "// Unless required by applicable law or agreed to in writing, software\n",
              "// distributed under the License is distributed on an \"AS IS\" BASIS,\n",
              "// WITHOUT WARRANTIES OR CONDITIONS OF ANY KIND, either express or implied.\n",
              "// See the License for the specific language governing permissions and\n",
              "// limitations under the License.\n",
              "\n",
              "/**\n",
              " * @fileoverview Helpers for google.colab Python module.\n",
              " */\n",
              "(function(scope) {\n",
              "function span(text, styleAttributes = {}) {\n",
              "  const element = document.createElement('span');\n",
              "  element.textContent = text;\n",
              "  for (const key of Object.keys(styleAttributes)) {\n",
              "    element.style[key] = styleAttributes[key];\n",
              "  }\n",
              "  return element;\n",
              "}\n",
              "\n",
              "// Max number of bytes which will be uploaded at a time.\n",
              "const MAX_PAYLOAD_SIZE = 100 * 1024;\n",
              "\n",
              "function _uploadFiles(inputId, outputId) {\n",
              "  const steps = uploadFilesStep(inputId, outputId);\n",
              "  const outputElement = document.getElementById(outputId);\n",
              "  // Cache steps on the outputElement to make it available for the next call\n",
              "  // to uploadFilesContinue from Python.\n",
              "  outputElement.steps = steps;\n",
              "\n",
              "  return _uploadFilesContinue(outputId);\n",
              "}\n",
              "\n",
              "// This is roughly an async generator (not supported in the browser yet),\n",
              "// where there are multiple asynchronous steps and the Python side is going\n",
              "// to poll for completion of each step.\n",
              "// This uses a Promise to block the python side on completion of each step,\n",
              "// then passes the result of the previous step as the input to the next step.\n",
              "function _uploadFilesContinue(outputId) {\n",
              "  const outputElement = document.getElementById(outputId);\n",
              "  const steps = outputElement.steps;\n",
              "\n",
              "  const next = steps.next(outputElement.lastPromiseValue);\n",
              "  return Promise.resolve(next.value.promise).then((value) => {\n",
              "    // Cache the last promise value to make it available to the next\n",
              "    // step of the generator.\n",
              "    outputElement.lastPromiseValue = value;\n",
              "    return next.value.response;\n",
              "  });\n",
              "}\n",
              "\n",
              "/**\n",
              " * Generator function which is called between each async step of the upload\n",
              " * process.\n",
              " * @param {string} inputId Element ID of the input file picker element.\n",
              " * @param {string} outputId Element ID of the output display.\n",
              " * @return {!Iterable<!Object>} Iterable of next steps.\n",
              " */\n",
              "function* uploadFilesStep(inputId, outputId) {\n",
              "  const inputElement = document.getElementById(inputId);\n",
              "  inputElement.disabled = false;\n",
              "\n",
              "  const outputElement = document.getElementById(outputId);\n",
              "  outputElement.innerHTML = '';\n",
              "\n",
              "  const pickedPromise = new Promise((resolve) => {\n",
              "    inputElement.addEventListener('change', (e) => {\n",
              "      resolve(e.target.files);\n",
              "    });\n",
              "  });\n",
              "\n",
              "  const cancel = document.createElement('button');\n",
              "  inputElement.parentElement.appendChild(cancel);\n",
              "  cancel.textContent = 'Cancel upload';\n",
              "  const cancelPromise = new Promise((resolve) => {\n",
              "    cancel.onclick = () => {\n",
              "      resolve(null);\n",
              "    };\n",
              "  });\n",
              "\n",
              "  // Wait for the user to pick the files.\n",
              "  const files = yield {\n",
              "    promise: Promise.race([pickedPromise, cancelPromise]),\n",
              "    response: {\n",
              "      action: 'starting',\n",
              "    }\n",
              "  };\n",
              "\n",
              "  cancel.remove();\n",
              "\n",
              "  // Disable the input element since further picks are not allowed.\n",
              "  inputElement.disabled = true;\n",
              "\n",
              "  if (!files) {\n",
              "    return {\n",
              "      response: {\n",
              "        action: 'complete',\n",
              "      }\n",
              "    };\n",
              "  }\n",
              "\n",
              "  for (const file of files) {\n",
              "    const li = document.createElement('li');\n",
              "    li.append(span(file.name, {fontWeight: 'bold'}));\n",
              "    li.append(span(\n",
              "        `(${file.type || 'n/a'}) - ${file.size} bytes, ` +\n",
              "        `last modified: ${\n",
              "            file.lastModifiedDate ? file.lastModifiedDate.toLocaleDateString() :\n",
              "                                    'n/a'} - `));\n",
              "    const percent = span('0% done');\n",
              "    li.appendChild(percent);\n",
              "\n",
              "    outputElement.appendChild(li);\n",
              "\n",
              "    const fileDataPromise = new Promise((resolve) => {\n",
              "      const reader = new FileReader();\n",
              "      reader.onload = (e) => {\n",
              "        resolve(e.target.result);\n",
              "      };\n",
              "      reader.readAsArrayBuffer(file);\n",
              "    });\n",
              "    // Wait for the data to be ready.\n",
              "    let fileData = yield {\n",
              "      promise: fileDataPromise,\n",
              "      response: {\n",
              "        action: 'continue',\n",
              "      }\n",
              "    };\n",
              "\n",
              "    // Use a chunked sending to avoid message size limits. See b/62115660.\n",
              "    let position = 0;\n",
              "    do {\n",
              "      const length = Math.min(fileData.byteLength - position, MAX_PAYLOAD_SIZE);\n",
              "      const chunk = new Uint8Array(fileData, position, length);\n",
              "      position += length;\n",
              "\n",
              "      const base64 = btoa(String.fromCharCode.apply(null, chunk));\n",
              "      yield {\n",
              "        response: {\n",
              "          action: 'append',\n",
              "          file: file.name,\n",
              "          data: base64,\n",
              "        },\n",
              "      };\n",
              "\n",
              "      let percentDone = fileData.byteLength === 0 ?\n",
              "          100 :\n",
              "          Math.round((position / fileData.byteLength) * 100);\n",
              "      percent.textContent = `${percentDone}% done`;\n",
              "\n",
              "    } while (position < fileData.byteLength);\n",
              "  }\n",
              "\n",
              "  // All done.\n",
              "  yield {\n",
              "    response: {\n",
              "      action: 'complete',\n",
              "    }\n",
              "  };\n",
              "}\n",
              "\n",
              "scope.google = scope.google || {};\n",
              "scope.google.colab = scope.google.colab || {};\n",
              "scope.google.colab._files = {\n",
              "  _uploadFiles,\n",
              "  _uploadFilesContinue,\n",
              "};\n",
              "})(self);\n",
              "</script> "
            ]
          },
          "metadata": {}
        },
        {
          "output_type": "stream",
          "name": "stdout",
          "text": [
            "Saving curated-solubility-dataset.csv to curated-solubility-dataset.csv\n",
            "    ID                                               Name  \\\n",
            "0  A-3         N,N,N-trimethyloctadecan-1-aminium bromide   \n",
            "1  A-4                           Benzo[cd]indol-2(1H)-one   \n",
            "2  A-5                               4-chlorobenzaldehyde   \n",
            "3  A-8  zinc bis[2-hydroxy-3,5-bis(1-phenylethyl)benzo...   \n",
            "4  A-9  4-({4-[bis(oxiran-2-ylmethyl)amino]phenyl}meth...   \n",
            "\n",
            "                                               InChI  \\\n",
            "0  InChI=1S/C21H46N.BrH/c1-5-6-7-8-9-10-11-12-13-...   \n",
            "1  InChI=1S/C11H7NO/c13-11-8-5-1-3-7-4-2-6-9(12-1...   \n",
            "2        InChI=1S/C7H5ClO/c8-7-3-1-6(5-9)2-4-7/h1-5H   \n",
            "3  InChI=1S/2C23H22O3.Zn/c2*1-15(17-9-5-3-6-10-17...   \n",
            "4  InChI=1S/C25H30N2O4/c1-5-20(26(10-22-14-28-22)...   \n",
            "\n",
            "                      InChIKey  \\\n",
            "0  SZEMGTQCPRNXEG-UHFFFAOYSA-M   \n",
            "1  GPYLCFQEKPUWLD-UHFFFAOYSA-N   \n",
            "2  AVPYQKSLYISFPO-UHFFFAOYSA-N   \n",
            "3  XTUPUYCJWKHGSW-UHFFFAOYSA-L   \n",
            "4  FAUAZXVRLVIARB-UHFFFAOYSA-N   \n",
            "\n",
            "                                              SMILES  Solubility   SD  \\\n",
            "0                [Br-].CCCCCCCCCCCCCCCCCC[N+](C)(C)C   -3.616127  0.0   \n",
            "1                               O=C1Nc2cccc3cccc1c23   -3.254767  0.0   \n",
            "2                                    Clc1ccc(C=O)cc1   -2.177078  0.0   \n",
            "3  [Zn++].CC(c1ccccc1)c2cc(C(C)c3ccccc3)c(O)c(c2)...   -3.924409  0.0   \n",
            "4  C1OC1CN(CC2CO2)c3ccc(Cc4ccc(cc4)N(CC5CO5)CC6CO...   -4.662065  0.0   \n",
            "\n",
            "   Ocurrences Group    MolWt  ...  NumRotatableBonds  NumValenceElectrons  \\\n",
            "0           1    G1  392.510  ...               17.0                142.0   \n",
            "1           1    G1  169.183  ...                0.0                 62.0   \n",
            "2           1    G1  140.569  ...                1.0                 46.0   \n",
            "3           1    G1  756.226  ...               10.0                264.0   \n",
            "4           1    G1  422.525  ...               12.0                164.0   \n",
            "\n",
            "   NumAromaticRings  NumSaturatedRings  NumAliphaticRings  RingCount    TPSA  \\\n",
            "0               0.0                0.0                0.0        0.0    0.00   \n",
            "1               2.0                0.0                1.0        3.0   29.10   \n",
            "2               1.0                0.0                0.0        1.0   17.07   \n",
            "3               6.0                0.0                0.0        6.0  120.72   \n",
            "4               2.0                4.0                4.0        6.0   56.60   \n",
            "\n",
            "    LabuteASA      BalabanJ      BertzCT  \n",
            "0  158.520601  0.000000e+00   210.377334  \n",
            "1   75.183563  2.582996e+00   511.229248  \n",
            "2   58.261134  3.009782e+00   202.661065  \n",
            "3  323.755434  2.322963e-07  1964.648666  \n",
            "4  183.183268  1.084427e+00   769.899934  \n",
            "\n",
            "[5 rows x 26 columns]\n"
          ]
        }
      ]
    },
    {
      "cell_type": "code",
      "source": [
        "len(df)"
      ],
      "metadata": {
        "colab": {
          "base_uri": "https://localhost:8080/"
        },
        "id": "l-ZejS3WzgAp",
        "outputId": "70abca49-8d00-40d7-b128-e5623670712c"
      },
      "execution_count": null,
      "outputs": [
        {
          "output_type": "execute_result",
          "data": {
            "text/plain": [
              "9982"
            ]
          },
          "metadata": {},
          "execution_count": 8
        }
      ]
    },
    {
      "cell_type": "markdown",
      "source": [
        "# Data preprocessing to ensure the data format is suitable for model training："
      ],
      "metadata": {
        "id": "3S4oQwq0zwi9"
      }
    },
    {
      "cell_type": "markdown",
      "source": [
        "## Handle categorical features：\n"
      ],
      "metadata": {
        "id": "F0tZlyVXhXmq"
      }
    },
    {
      "cell_type": "markdown",
      "source": [
        "The \"Group\" column usually contains categorical data (e.g., drug categories, molecular classes, chemical groups, etc.), so it needs to be converted into a numerical format using encoding methods to be understood by machine learning models. Label Encoding or One-Hot Encoding can be used to transform it into numerical features."
      ],
      "metadata": {
        "id": "gUH69MFqhYM9"
      }
    },
    {
      "cell_type": "code",
      "source": [
        "label_encoder = LabelEncoder()\n",
        "# LabelEncoder is a class used to convert categorical labels (such as category names in string form) into numerical labels (integer form).\n",
        "df['Group'] = label_encoder.fit_transform(df['Group'])\n",
        "df['Group']"
      ],
      "metadata": {
        "colab": {
          "base_uri": "https://localhost:8080/",
          "height": 458
        },
        "id": "Q7WIuBF7hQ_w",
        "outputId": "de5acac2-ccbc-47da-fcf8-aab6590e5dde"
      },
      "execution_count": null,
      "outputs": [
        {
          "output_type": "execute_result",
          "data": {
            "text/plain": [
              "0       0\n",
              "1       0\n",
              "2       0\n",
              "3       0\n",
              "4       0\n",
              "       ..\n",
              "9977    0\n",
              "9978    0\n",
              "9979    4\n",
              "9980    0\n",
              "9981    4\n",
              "Name: Group, Length: 9982, dtype: int64"
            ],
            "text/html": [
              "<div>\n",
              "<style scoped>\n",
              "    .dataframe tbody tr th:only-of-type {\n",
              "        vertical-align: middle;\n",
              "    }\n",
              "\n",
              "    .dataframe tbody tr th {\n",
              "        vertical-align: top;\n",
              "    }\n",
              "\n",
              "    .dataframe thead th {\n",
              "        text-align: right;\n",
              "    }\n",
              "</style>\n",
              "<table border=\"1\" class=\"dataframe\">\n",
              "  <thead>\n",
              "    <tr style=\"text-align: right;\">\n",
              "      <th></th>\n",
              "      <th>Group</th>\n",
              "    </tr>\n",
              "  </thead>\n",
              "  <tbody>\n",
              "    <tr>\n",
              "      <th>0</th>\n",
              "      <td>0</td>\n",
              "    </tr>\n",
              "    <tr>\n",
              "      <th>1</th>\n",
              "      <td>0</td>\n",
              "    </tr>\n",
              "    <tr>\n",
              "      <th>2</th>\n",
              "      <td>0</td>\n",
              "    </tr>\n",
              "    <tr>\n",
              "      <th>3</th>\n",
              "      <td>0</td>\n",
              "    </tr>\n",
              "    <tr>\n",
              "      <th>4</th>\n",
              "      <td>0</td>\n",
              "    </tr>\n",
              "    <tr>\n",
              "      <th>...</th>\n",
              "      <td>...</td>\n",
              "    </tr>\n",
              "    <tr>\n",
              "      <th>9977</th>\n",
              "      <td>0</td>\n",
              "    </tr>\n",
              "    <tr>\n",
              "      <th>9978</th>\n",
              "      <td>0</td>\n",
              "    </tr>\n",
              "    <tr>\n",
              "      <th>9979</th>\n",
              "      <td>4</td>\n",
              "    </tr>\n",
              "    <tr>\n",
              "      <th>9980</th>\n",
              "      <td>0</td>\n",
              "    </tr>\n",
              "    <tr>\n",
              "      <th>9981</th>\n",
              "      <td>4</td>\n",
              "    </tr>\n",
              "  </tbody>\n",
              "</table>\n",
              "<p>9982 rows × 1 columns</p>\n",
              "</div><br><label><b>dtype:</b> int64</label>"
            ]
          },
          "metadata": {},
          "execution_count": 9
        }
      ]
    },
    {
      "cell_type": "markdown",
      "source": [
        "## Select features (X) and target variable (y):"
      ],
      "metadata": {
        "id": "sYoTro5jZ9wp"
      }
    },
    {
      "cell_type": "code",
      "source": [
        "# Select features (X) and target variable (y)\n",
        "\n",
        "x = df.drop(columns=[\"Solubility\", \"Name\", \"InChIKey\", \"InChI\", \"ID\", \"SMILES\"])\n",
        "# Delete the \"Solubility\" column, and the remaining columns will be used as features (X)\n",
        "y = df[\"Solubility\"]  # Extract the \"Solubility\" column as the target variable (y)\n"
      ],
      "metadata": {
        "id": "_uGbjfJaMNIq"
      },
      "execution_count": null,
      "outputs": []
    },
    {
      "cell_type": "markdown",
      "source": [
        "`label_encoder.fit_transform(df['Group'])`:\n",
        "\n",
        "- `label_encoder` is an instance object of the `LabelEncoder` class.\n",
        "\n",
        "- `df['Group']`: This refers to extracting the \"Group\" column from the dataframe `df`, which contains categorical data (such as string type category labels like \"A\", \"B\", \"C\", etc.).\n",
        "\n",
        "- `label_encoder.fit_transform()`:\n",
        "  - `fit_transform()` is an instance method that first fits the data (learns the patterns), then transforms the data (converts categorical labels into integers).\n",
        "  - It must be called through the instance object of the class, not directly from the class itself.\n",
        "\n",
        "- **Fitting Data** refers to the process where a model or algorithm learns the patterns in the data in order to find statistical regularities or optimal parameters.\n",
        "\n",
        "- `df['group_encoded']`: This assigns the transformed encoded values to a new column `group_encoded` in the dataframe `df`. The new column will store the encoded values, meaning the category labels in the \"Group\" column are mapped to corresponding integers."
      ],
      "metadata": {
        "id": "UCLAbk9CHPGZ"
      }
    },
    {
      "cell_type": "markdown",
      "source": [
        "Use Pandas to quickly plot multiple histograms and view the distribution of data in each feature.  \n",
        "Plot histograms for all features at once using Pandas:"
      ],
      "metadata": {
        "id": "amPWMOeZAKrn"
      }
    },
    {
      "cell_type": "code",
      "source": [
        "len(x)"
      ],
      "metadata": {
        "colab": {
          "base_uri": "https://localhost:8080/"
        },
        "id": "C1uNW-w1qDsU",
        "outputId": "9d8cf80a-d369-41d8-df68-528d10756af3"
      },
      "execution_count": null,
      "outputs": [
        {
          "output_type": "execute_result",
          "data": {
            "text/plain": [
              "9982"
            ]
          },
          "metadata": {},
          "execution_count": 11
        }
      ]
    },
    {
      "cell_type": "code",
      "source": [
        "len(y)"
      ],
      "metadata": {
        "colab": {
          "base_uri": "https://localhost:8080/"
        },
        "id": "kuYteZqTp7Q_",
        "outputId": "d41560aa-7cba-4e47-9a73-5b802cf534aa"
      },
      "execution_count": null,
      "outputs": [
        {
          "output_type": "execute_result",
          "data": {
            "text/plain": [
              "9982"
            ]
          },
          "metadata": {},
          "execution_count": 12
        }
      ]
    },
    {
      "cell_type": "code",
      "source": [
        "x.hist(figsize=(10, 8), bins=30, color='blue', edgecolor='black')\n",
        "# `data.hist()` : A built-in Pandas method that can simultaneously plot histograms for all numeric columns in a DataFrame.\n",
        "plt.suptitle(\"Histograms of Features\")\n",
        "plt.show()"
      ],
      "metadata": {
        "colab": {
          "base_uri": "https://localhost:8080/",
          "height": 756
        },
        "id": "tCl9yls1AP_v",
        "outputId": "e9f2864b-ebfc-4294-add3-8801e180adf1"
      },
      "execution_count": null,
      "outputs": [
        {
          "output_type": "display_data",
          "data": {
            "text/plain": [
              "<Figure size 1000x800 with 20 Axes>"
            ],
            "image/png": "[encoded data removed]"
          },
          "metadata": {}
        }
      ]
    },
    {
      "cell_type": "markdown",
      "source": [
        "## Check and understand each feature.\n",
        "Try to understand the meaning of each feature and confirm its data type. Different types of features (e.g., numerical, categorical) may require different handling methods."
      ],
      "metadata": {
        "id": "IaA2JpK0Y03w"
      }
    },
    {
      "cell_type": "code",
      "source": [
        "x.info()  # Check the data types, missing values, and other basic information.\n",
        "x.describe()  # Check the statistical information of numerical features."
      ],
      "metadata": {
        "colab": {
          "base_uri": "https://localhost:8080/",
          "height": 802
        },
        "id": "VMr7vj7LkCcs",
        "outputId": "617a6847-8391-458b-e7be-2c622ff64e24"
      },
      "execution_count": null,
      "outputs": [
        {
          "output_type": "stream",
          "name": "stdout",
          "text": [
            "<class 'pandas.core.frame.DataFrame'>\n",
            "RangeIndex: 9982 entries, 0 to 9981\n",
            "Data columns (total 20 columns):\n",
            " #   Column               Non-Null Count  Dtype  \n",
            "---  ------               --------------  -----  \n",
            " 0   SD                   9982 non-null   float64\n",
            " 1   Ocurrences           9982 non-null   int64  \n",
            " 2   Group                9982 non-null   int64  \n",
            " 3   MolWt                9982 non-null   float64\n",
            " 4   MolLogP              9982 non-null   float64\n",
            " 5   MolMR                9982 non-null   float64\n",
            " 6   HeavyAtomCount       9982 non-null   float64\n",
            " 7   NumHAcceptors        9982 non-null   float64\n",
            " 8   NumHDonors           9982 non-null   float64\n",
            " 9   NumHeteroatoms       9982 non-null   float64\n",
            " 10  NumRotatableBonds    9982 non-null   float64\n",
            " 11  NumValenceElectrons  9982 non-null   float64\n",
            " 12  NumAromaticRings     9982 non-null   float64\n",
            " 13  NumSaturatedRings    9982 non-null   float64\n",
            " 14  NumAliphaticRings    9982 non-null   float64\n",
            " 15  RingCount            9982 non-null   float64\n",
            " 16  TPSA                 9982 non-null   float64\n",
            " 17  LabuteASA            9982 non-null   float64\n",
            " 18  BalabanJ             9982 non-null   float64\n",
            " 19  BertzCT              9982 non-null   float64\n",
            "dtypes: float64(18), int64(2)\n",
            "memory usage: 1.5 MB\n"
          ]
        },
        {
          "output_type": "execute_result",
          "data": {
            "text/plain": [
              "                SD   Ocurrences        Group        MolWt      MolLogP  \\\n",
              "count  9982.000000  9982.000000  9982.000000  9982.000000  9982.000000   \n",
              "mean      0.067449     1.378081     0.570226   266.665946     1.979167   \n",
              "std       0.234702     1.023476     1.164734   184.179024     3.517738   \n",
              "min       0.000000     1.000000     0.000000     9.012000   -40.873200   \n",
              "25%       0.000000     1.000000     0.000000   162.276000     0.619750   \n",
              "50%       0.000000     1.000000     0.000000   228.682000     1.949220   \n",
              "75%       0.000000     1.000000     0.000000   320.436000     3.419030   \n",
              "max       3.870145    38.000000     4.000000  5299.456000    68.541140   \n",
              "\n",
              "             MolMR  HeavyAtomCount  NumHAcceptors   NumHDonors  \\\n",
              "count  9982.000000     9982.000000    9982.000000  9982.000000   \n",
              "mean     66.794594       17.374674       3.486776     1.108595   \n",
              "std      46.523021       12.241536       3.498203     1.488973   \n",
              "min       0.000000        1.000000       0.000000     0.000000   \n",
              "25%      40.602475       11.000000       2.000000     0.000000   \n",
              "50%      58.633400       15.000000       3.000000     1.000000   \n",
              "75%      81.938000       21.000000       4.000000     2.000000   \n",
              "max    1419.351700      388.000000      86.000000    26.000000   \n",
              "\n",
              "       NumHeteroatoms  NumRotatableBonds  NumValenceElectrons  \\\n",
              "count     9982.000000        9982.000000          9982.000000   \n",
              "mean         5.196955           4.073031            94.243438   \n",
              "std          4.736275           5.646925            64.748563   \n",
              "min          0.000000           0.000000             0.000000   \n",
              "25%          3.000000           1.000000            58.000000   \n",
              "50%          4.000000           3.000000            82.000000   \n",
              "75%          6.000000           5.000000           112.000000   \n",
              "max         89.000000         141.000000          2012.000000   \n",
              "\n",
              "       NumAromaticRings  NumSaturatedRings  NumAliphaticRings    RingCount  \\\n",
              "count       9982.000000        9982.000000        9982.000000  9982.000000   \n",
              "mean           1.068323           0.292627           0.447606     1.515929   \n",
              "std            1.309427           0.879599           1.054667     1.644334   \n",
              "min            0.000000           0.000000           0.000000     0.000000   \n",
              "25%            0.000000           0.000000           0.000000     0.000000   \n",
              "50%            1.000000           0.000000           0.000000     1.000000   \n",
              "75%            2.000000           0.000000           1.000000     2.000000   \n",
              "max           35.000000          30.000000          30.000000    36.000000   \n",
              "\n",
              "              TPSA    LabuteASA     BalabanJ       BertzCT  \n",
              "count  9982.000000  9982.000000  9982.000000   9982.000000  \n",
              "mean     62.458601   108.912586     2.392199    467.336782  \n",
              "std      63.348307    76.462726     1.091123    546.631696  \n",
              "min       0.000000     7.504228    -0.000004      0.000000  \n",
              "25%      26.300000    66.623721     2.004357    163.243343  \n",
              "50%      50.720000    93.299873     2.539539    351.640433  \n",
              "75%      80.390000   129.118374     3.032456    606.562848  \n",
              "max    1214.340000  2230.685124     7.517310  20720.267708  "
            ],
            "text/html": [
              "\n",
              "  <div id=\"df-c74bac2c-80d4-4bac-a181-b1227138a4a8\" class=\"colab-df-container\">\n",
              "    <div>\n",
              "<style scoped>\n",
              "    .dataframe tbody tr th:only-of-type {\n",
              "        vertical-align: middle;\n",
              "    }\n",
              "\n",
              "    .dataframe tbody tr th {\n",
              "        vertical-align: top;\n",
              "    }\n",
              "\n",
              "    .dataframe thead th {\n",
              "        text-align: right;\n",
              "    }\n",
              "</style>\n",
              "<table border=\"1\" class=\"dataframe\">\n",
              "  <thead>\n",
              "    <tr style=\"text-align: right;\">\n",
              "      <th></th>\n",
              "      <th>SD</th>\n",
              "      <th>Ocurrences</th>\n",
              "      <th>Group</th>\n",
              "      <th>MolWt</th>\n",
              "      <th>MolLogP</th>\n",
              "      <th>MolMR</th>\n",
              "      <th>HeavyAtomCount</th>\n",
              "      <th>NumHAcceptors</th>\n",
              "      <th>NumHDonors</th>\n",
              "      <th>NumHeteroatoms</th>\n",
              "      <th>NumRotatableBonds</th>\n",
              "      <th>NumValenceElectrons</th>\n",
              "      <th>NumAromaticRings</th>\n",
              "      <th>NumSaturatedRings</th>\n",
              "      <th>NumAliphaticRings</th>\n",
              "      <th>RingCount</th>\n",
              "      <th>TPSA</th>\n",
              "      <th>LabuteASA</th>\n",
              "      <th>BalabanJ</th>\n",
              "      <th>BertzCT</th>\n",
              "    </tr>\n",
              "  </thead>\n",
              "  <tbody>\n",
              "    <tr>\n",
              "      <th>count</th>\n",
              "      <td>9982.000000</td>\n",
              "      <td>9982.000000</td>\n",
              "      <td>9982.000000</td>\n",
              "      <td>9982.000000</td>\n",
              "      <td>9982.000000</td>\n",
              "      <td>9982.000000</td>\n",
              "      <td>9982.000000</td>\n",
              "      <td>9982.000000</td>\n",
              "      <td>9982.000000</td>\n",
              "      <td>9982.000000</td>\n",
              "      <td>9982.000000</td>\n",
              "      <td>9982.000000</td>\n",
              "      <td>9982.000000</td>\n",
              "      <td>9982.000000</td>\n",
              "      <td>9982.000000</td>\n",
              "      <td>9982.000000</td>\n",
              "      <td>9982.000000</td>\n",
              "      <td>9982.000000</td>\n",
              "      <td>9982.000000</td>\n",
              "      <td>9982.000000</td>\n",
              "    </tr>\n",
              "    <tr>\n",
              "      <th>mean</th>\n",
              "      <td>0.067449</td>\n",
              "      <td>1.378081</td>\n",
              "      <td>0.570226</td>\n",
              "      <td>266.665946</td>\n",
              "      <td>1.979167</td>\n",
              "      <td>66.794594</td>\n",
              "      <td>17.374674</td>\n",
              "      <td>3.486776</td>\n",
              "      <td>1.108595</td>\n",
              "      <td>5.196955</td>\n",
              "      <td>4.073031</td>\n",
              "      <td>94.243438</td>\n",
              "      <td>1.068323</td>\n",
              "      <td>0.292627</td>\n",
              "      <td>0.447606</td>\n",
              "      <td>1.515929</td>\n",
              "      <td>62.458601</td>\n",
              "      <td>108.912586</td>\n",
              "      <td>2.392199</td>\n",
              "      <td>467.336782</td>\n",
              "    </tr>\n",
              "    <tr>\n",
              "      <th>std</th>\n",
              "      <td>0.234702</td>\n",
              "      <td>1.023476</td>\n",
              "      <td>1.164734</td>\n",
              "      <td>184.179024</td>\n",
              "      <td>3.517738</td>\n",
              "      <td>46.523021</td>\n",
              "      <td>12.241536</td>\n",
              "      <td>3.498203</td>\n",
              "      <td>1.488973</td>\n",
              "      <td>4.736275</td>\n",
              "      <td>5.646925</td>\n",
              "      <td>64.748563</td>\n",
              "      <td>1.309427</td>\n",
              "      <td>0.879599</td>\n",
              "      <td>1.054667</td>\n",
              "      <td>1.644334</td>\n",
              "      <td>63.348307</td>\n",
              "      <td>76.462726</td>\n",
              "      <td>1.091123</td>\n",
              "      <td>546.631696</td>\n",
              "    </tr>\n",
              "    <tr>\n",
              "      <th>min</th>\n",
              "      <td>0.000000</td>\n",
              "      <td>1.000000</td>\n",
              "      <td>0.000000</td>\n",
              "      <td>9.012000</td>\n",
              "      <td>-40.873200</td>\n",
              "      <td>0.000000</td>\n",
              "      <td>1.000000</td>\n",
              "      <td>0.000000</td>\n",
              "      <td>0.000000</td>\n",
              "      <td>0.000000</td>\n",
              "      <td>0.000000</td>\n",
              "      <td>0.000000</td>\n",
              "      <td>0.000000</td>\n",
              "      <td>0.000000</td>\n",
              "      <td>0.000000</td>\n",
              "      <td>0.000000</td>\n",
              "      <td>0.000000</td>\n",
              "      <td>7.504228</td>\n",
              "      <td>-0.000004</td>\n",
              "      <td>0.000000</td>\n",
              "    </tr>\n",
              "    <tr>\n",
              "      <th>25%</th>\n",
              "      <td>0.000000</td>\n",
              "      <td>1.000000</td>\n",
              "      <td>0.000000</td>\n",
              "      <td>162.276000</td>\n",
              "      <td>0.619750</td>\n",
              "      <td>40.602475</td>\n",
              "      <td>11.000000</td>\n",
              "      <td>2.000000</td>\n",
              "      <td>0.000000</td>\n",
              "      <td>3.000000</td>\n",
              "      <td>1.000000</td>\n",
              "      <td>58.000000</td>\n",
              "      <td>0.000000</td>\n",
              "      <td>0.000000</td>\n",
              "      <td>0.000000</td>\n",
              "      <td>0.000000</td>\n",
              "      <td>26.300000</td>\n",
              "      <td>66.623721</td>\n",
              "      <td>2.004357</td>\n",
              "      <td>163.243343</td>\n",
              "    </tr>\n",
              "    <tr>\n",
              "      <th>50%</th>\n",
              "      <td>0.000000</td>\n",
              "      <td>1.000000</td>\n",
              "      <td>0.000000</td>\n",
              "      <td>228.682000</td>\n",
              "      <td>1.949220</td>\n",
              "      <td>58.633400</td>\n",
              "      <td>15.000000</td>\n",
              "      <td>3.000000</td>\n",
              "      <td>1.000000</td>\n",
              "      <td>4.000000</td>\n",
              "      <td>3.000000</td>\n",
              "      <td>82.000000</td>\n",
              "      <td>1.000000</td>\n",
              "      <td>0.000000</td>\n",
              "      <td>0.000000</td>\n",
              "      <td>1.000000</td>\n",
              "      <td>50.720000</td>\n",
              "      <td>93.299873</td>\n",
              "      <td>2.539539</td>\n",
              "      <td>351.640433</td>\n",
              "    </tr>\n",
              "    <tr>\n",
              "      <th>75%</th>\n",
              "      <td>0.000000</td>\n",
              "      <td>1.000000</td>\n",
              "      <td>0.000000</td>\n",
              "      <td>320.436000</td>\n",
              "      <td>3.419030</td>\n",
              "      <td>81.938000</td>\n",
              "      <td>21.000000</td>\n",
              "      <td>4.000000</td>\n",
              "      <td>2.000000</td>\n",
              "      <td>6.000000</td>\n",
              "      <td>5.000000</td>\n",
              "      <td>112.000000</td>\n",
              "      <td>2.000000</td>\n",
              "      <td>0.000000</td>\n",
              "      <td>1.000000</td>\n",
              "      <td>2.000000</td>\n",
              "      <td>80.390000</td>\n",
              "      <td>129.118374</td>\n",
              "      <td>3.032456</td>\n",
              "      <td>606.562848</td>\n",
              "    </tr>\n",
              "    <tr>\n",
              "      <th>max</th>\n",
              "      <td>3.870145</td>\n",
              "      <td>38.000000</td>\n",
              "      <td>4.000000</td>\n",
              "      <td>5299.456000</td>\n",
              "      <td>68.541140</td>\n",
              "      <td>1419.351700</td>\n",
              "      <td>388.000000</td>\n",
              "      <td>86.000000</td>\n",
              "      <td>26.000000</td>\n",
              "      <td>89.000000</td>\n",
              "      <td>141.000000</td>\n",
              "      <td>2012.000000</td>\n",
              "      <td>35.000000</td>\n",
              "      <td>30.000000</td>\n",
              "      <td>30.000000</td>\n",
              "      <td>36.000000</td>\n",
              "      <td>1214.340000</td>\n",
              "      <td>2230.685124</td>\n",
              "      <td>7.517310</td>\n",
              "      <td>20720.267708</td>\n",
              "    </tr>\n",
              "  </tbody>\n",
              "</table>\n",
              "</div>\n",
              "    <div class=\"colab-df-buttons\">\n",
              "\n",
              "  <div class=\"colab-df-container\">\n",
              "    <button class=\"colab-df-convert\" onclick=\"convertToInteractive('df-c74bac2c-80d4-4bac-a181-b1227138a4a8')\"\n",
              "            title=\"Convert this dataframe to an interactive table.\"\n",
              "            style=\"display:none;\">\n",
              "\n",
              "  <svg xmlns=\"http://www.w3.org/2000/svg\" height=\"24px\" viewBox=\"0 -960 960 960\">\n",
              "    <path d=\"M120-120v-720h720v720H120Zm60-500h600v-160H180v160Zm220 220h160v-160H400v160Zm0 220h160v-160H400v160ZM180-400h160v-160H180v160Zm440 0h160v-160H620v160ZM180-180h160v-160H180v160Zm440 0h160v-160H620v160Z\"/>\n",
              "  </svg>\n",
              "    </button>\n",
              "\n",
              "  <style>\n",
              "    .colab-df-container {\n",
              "      display:flex;\n",
              "      gap: 12px;\n",
              "    }\n",
              "\n",
              "    .colab-df-convert {\n",
              "      background-color: #E8F0FE;\n",
              "      border: none;\n",
              "      border-radius: 50%;\n",
              "      cursor: pointer;\n",
              "      display: none;\n",
              "      fill: #1967D2;\n",
              "      height: 32px;\n",
              "      padding: 0 0 0 0;\n",
              "      width: 32px;\n",
              "    }\n",
              "\n",
              "    .colab-df-convert:hover {\n",
              "      background-color: #E2EBFA;\n",
              "      box-shadow: 0px 1px 2px rgba(60, 64, 67, 0.3), 0px 1px 3px 1px rgba(60, 64, 67, 0.15);\n",
              "      fill: #174EA6;\n",
              "    }\n",
              "\n",
              "    .colab-df-buttons div {\n",
              "      margin-bottom: 4px;\n",
              "    }\n",
              "\n",
              "    [theme=dark] .colab-df-convert {\n",
              "      background-color: #3B4455;\n",
              "      fill: #D2E3FC;\n",
              "    }\n",
              "\n",
              "    [theme=dark] .colab-df-convert:hover {\n",
              "      background-color: #434B5C;\n",
              "      box-shadow: 0px 1px 3px 1px rgba(0, 0, 0, 0.15);\n",
              "      filter: drop-shadow(0px 1px 2px rgba(0, 0, 0, 0.3));\n",
              "      fill: #FFFFFF;\n",
              "    }\n",
              "  </style>\n",
              "\n",
              "    <script>\n",
              "      const buttonEl =\n",
              "        document.querySelector('#df-c74bac2c-80d4-4bac-a181-b1227138a4a8 button.colab-df-convert');\n",
              "      buttonEl.style.display =\n",
              "        google.colab.kernel.accessAllowed ? 'block' : 'none';\n",
              "\n",
              "      async function convertToInteractive(key) {\n",
              "        const element = document.querySelector('#df-c74bac2c-80d4-4bac-a181-b1227138a4a8');\n",
              "        const dataTable =\n",
              "          await google.colab.kernel.invokeFunction('convertToInteractive',\n",
              "                                                    [key], {});\n",
              "        if (!dataTable) return;\n",
              "\n",
              "        const docLinkHtml = 'Like what you see? Visit the ' +\n",
              "          '<a target=\"_blank\" href=https://colab.research.google.com/notebooks/data_table.ipynb>data table notebook</a>'\n",
              "          + ' to learn more about interactive tables.';\n",
              "        element.innerHTML = '';\n",
              "        dataTable['output_type'] = 'display_data';\n",
              "        await google.colab.output.renderOutput(dataTable, element);\n",
              "        const docLink = document.createElement('div');\n",
              "        docLink.innerHTML = docLinkHtml;\n",
              "        element.appendChild(docLink);\n",
              "      }\n",
              "    </script>\n",
              "  </div>\n",
              "\n",
              "\n",
              "<div id=\"df-bb4d5c86-e9fb-464b-9d6c-cb91d39254a4\">\n",
              "  <button class=\"colab-df-quickchart\" onclick=\"quickchart('df-bb4d5c86-e9fb-464b-9d6c-cb91d39254a4')\"\n",
              "            title=\"Suggest charts\"\n",
              "            style=\"display:none;\">\n",
              "\n",
              "<svg xmlns=\"http://www.w3.org/2000/svg\" height=\"24px\"viewBox=\"0 0 24 24\"\n",
              "     width=\"24px\">\n",
              "    <g>\n",
              "        <path d=\"M19 3H5c-1.1 0-2 .9-2 2v14c0 1.1.9 2 2 2h14c1.1 0 2-.9 2-2V5c0-1.1-.9-2-2-2zM9 17H7v-7h2v7zm4 0h-2V7h2v10zm4 0h-2v-4h2v4z\"/>\n",
              "    </g>\n",
              "</svg>\n",
              "  </button>\n",
              "\n",
              "<style>\n",
              "  .colab-df-quickchart {\n",
              "      --bg-color: #E8F0FE;\n",
              "      --fill-color: #1967D2;\n",
              "      --hover-bg-color: #E2EBFA;\n",
              "      --hover-fill-color: #174EA6;\n",
              "      --disabled-fill-color: #AAA;\n",
              "      --disabled-bg-color: #DDD;\n",
              "  }\n",
              "\n",
              "  [theme=dark] .colab-df-quickchart {\n",
              "      --bg-color: #3B4455;\n",
              "      --fill-color: #D2E3FC;\n",
              "      --hover-bg-color: #434B5C;\n",
              "      --hover-fill-color: #FFFFFF;\n",
              "      --disabled-bg-color: #3B4455;\n",
              "      --disabled-fill-color: #666;\n",
              "  }\n",
              "\n",
              "  .colab-df-quickchart {\n",
              "    background-color: var(--bg-color);\n",
              "    border: none;\n",
              "    border-radius: 50%;\n",
              "    cursor: pointer;\n",
              "    display: none;\n",
              "    fill: var(--fill-color);\n",
              "    height: 32px;\n",
              "    padding: 0;\n",
              "    width: 32px;\n",
              "  }\n",
              "\n",
              "  .colab-df-quickchart:hover {\n",
              "    background-color: var(--hover-bg-color);\n",
              "    box-shadow: 0 1px 2px rgba(60, 64, 67, 0.3), 0 1px 3px 1px rgba(60, 64, 67, 0.15);\n",
              "    fill: var(--button-hover-fill-color);\n",
              "  }\n",
              "\n",
              "  .colab-df-quickchart-complete:disabled,\n",
              "  .colab-df-quickchart-complete:disabled:hover {\n",
              "    background-color: var(--disabled-bg-color);\n",
              "    fill: var(--disabled-fill-color);\n",
              "    box-shadow: none;\n",
              "  }\n",
              "\n",
              "  .colab-df-spinner {\n",
              "    border: 2px solid var(--fill-color);\n",
              "    border-color: transparent;\n",
              "    border-bottom-color: var(--fill-color);\n",
              "    animation:\n",
              "      spin 1s steps(1) infinite;\n",
              "  }\n",
              "\n",
              "  @keyframes spin {\n",
              "    0% {\n",
              "      border-color: transparent;\n",
              "      border-bottom-color: var(--fill-color);\n",
              "      border-left-color: var(--fill-color);\n",
              "    }\n",
              "    20% {\n",
              "      border-color: transparent;\n",
              "      border-left-color: var(--fill-color);\n",
              "      border-top-color: var(--fill-color);\n",
              "    }\n",
              "    30% {\n",
              "      border-color: transparent;\n",
              "      border-left-color: var(--fill-color);\n",
              "      border-top-color: var(--fill-color);\n",
              "      border-right-color: var(--fill-color);\n",
              "    }\n",
              "    40% {\n",
              "      border-color: transparent;\n",
              "      border-right-color: var(--fill-color);\n",
              "      border-top-color: var(--fill-color);\n",
              "    }\n",
              "    60% {\n",
              "      border-color: transparent;\n",
              "      border-right-color: var(--fill-color);\n",
              "    }\n",
              "    80% {\n",
              "      border-color: transparent;\n",
              "      border-right-color: var(--fill-color);\n",
              "      border-bottom-color: var(--fill-color);\n",
              "    }\n",
              "    90% {\n",
              "      border-color: transparent;\n",
              "      border-bottom-color: var(--fill-color);\n",
              "    }\n",
              "  }\n",
              "</style>\n",
              "\n",
              "  <script>\n",
              "    async function quickchart(key) {\n",
              "      const quickchartButtonEl =\n",
              "        document.querySelector('#' + key + ' button');\n",
              "      quickchartButtonEl.disabled = true;  // To prevent multiple clicks.\n",
              "      quickchartButtonEl.classList.add('colab-df-spinner');\n",
              "      try {\n",
              "        const charts = await google.colab.kernel.invokeFunction(\n",
              "            'suggestCharts', [key], {});\n",
              "      } catch (error) {\n",
              "        console.error('Error during call to suggestCharts:', error);\n",
              "      }\n",
              "      quickchartButtonEl.classList.remove('colab-df-spinner');\n",
              "      quickchartButtonEl.classList.add('colab-df-quickchart-complete');\n",
              "    }\n",
              "    (() => {\n",
              "      let quickchartButtonEl =\n",
              "        document.querySelector('#df-bb4d5c86-e9fb-464b-9d6c-cb91d39254a4 button');\n",
              "      quickchartButtonEl.style.display =\n",
              "        google.colab.kernel.accessAllowed ? 'block' : 'none';\n",
              "    })();\n",
              "  </script>\n",
              "</div>\n",
              "\n",
              "    </div>\n",
              "  </div>\n"
            ],
            "application/vnd.google.colaboratory.intrinsic+json": {
              "type": "dataframe",
              "summary": "{\n  \"name\": \"x\",\n  \"rows\": 8,\n  \"fields\": [\n    {\n      \"column\": \"SD\",\n      \"properties\": {\n        \"dtype\": \"number\",\n        \"std\": 3528.9594661617716,\n        \"min\": 0.0,\n        \"max\": 9982.0,\n        \"num_unique_values\": 5,\n        \"samples\": [\n          0.06744869183995683,\n          3.8701451360749375,\n          0.23470228973244647\n        ],\n        \"semantic_type\": \"\",\n        \"description\": \"\"\n      }\n    },\n    {\n      \"column\": \"Ocurrences\",\n      \"properties\": {\n        \"dtype\": \"number\",\n        \"std\": 3526.9510087233457,\n        \"min\": 1.0,\n        \"max\": 9982.0,\n        \"num_unique_values\": 5,\n        \"samples\": [\n          1.3780805449809657,\n          38.0,\n          1.0234757727337813\n        ],\n        \"semantic_type\": \"\",\n        \"description\": \"\"\n      }\n    },\n    {\n      \"column\": \"Group\",\n      \"properties\": {\n        \"dtype\": \"number\",\n        \"std\": 3528.8805484682207,\n        \"min\": 0.0,\n        \"max\": 9982.0,\n        \"num_unique_values\": 5,\n        \"samples\": [\n          0.5702264075335604,\n          4.0,\n          1.164733736834198\n        ],\n        \"semantic_type\": \"\",\n        \"description\": \"\"\n      }\n    },\n    {\n      \"column\": \"MolWt\",\n      \"properties\": {\n        \"dtype\": \"number\",\n        \"std\": 3667.9019715776085,\n        \"min\": 9.012,\n        \"max\": 9982.0,\n        \"num_unique_values\": 8,\n        \"samples\": [\n          266.66594571246026,\n          228.682,\n          9982.0\n        ],\n        \"semantic_type\": \"\",\n        \"description\": \"\"\n      }\n    },\n    {\n      \"column\": \"MolLogP\",\n      \"properties\": {\n        \"dtype\": \"number\",\n        \"std\": 3527.3176095058693,\n        \"min\": -40.87319999999999,\n        \"max\": 9982.0,\n        \"num_unique_values\": 8,\n        \"samples\": [\n          1.9791671568823892,\n          1.9492200000000002,\n          9982.0\n        ],\n        \"semantic_type\": \"\",\n        \"description\": \"\"\n      }\n    },\n    {\n      \"column\": \"MolMR\",\n      \"properties\": {\n        \"dtype\": \"number\",\n        \"std\": 3475.9215826449267,\n        \"min\": 0.0,\n        \"max\": 9982.0,\n        \"num_unique_values\": 8,\n        \"samples\": [\n          66.79459381887398,\n          58.63340000000003,\n          9982.0\n        ],\n        \"semantic_type\": \"\",\n        \"description\": \"\"\n      }\n    },\n    {\n      \"column\": \"HeavyAtomCount\",\n      \"properties\": {\n        \"dtype\": \"number\",\n        \"std\": 3508.113497415486,\n        \"min\": 1.0,\n        \"max\": 9982.0,\n        \"num_unique_values\": 8,\n        \"samples\": [\n          17.3746744139451,\n          15.0,\n          9982.0\n        ],\n        \"semantic_type\": \"\",\n        \"description\": \"\"\n      }\n    },\n    {\n      \"column\": \"NumHAcceptors\",\n      \"properties\": {\n        \"dtype\": \"number\",\n        \"std\": 3524.1397990271953,\n        \"min\": 0.0,\n        \"max\": 9982.0,\n        \"num_unique_values\": 8,\n        \"samples\": [\n          3.486776197154879,\n          3.0,\n          9982.0\n        ],\n        \"semantic_type\": \"\",\n        \"description\": \"\"\n      }\n    },\n    {\n      \"column\": \"NumHDonors\",\n      \"properties\": {\n        \"dtype\": \"number\",\n        \"std\": 3527.584997722205,\n        \"min\": 0.0,\n        \"max\": 9982.0,\n        \"num_unique_values\": 7,\n        \"samples\": [\n          9982.0,\n          1.1085954718493287,\n          2.0\n        ],\n        \"semantic_type\": \"\",\n        \"description\": \"\"\n      }\n    },\n    {\n      \"column\": \"NumHeteroatoms\",\n      \"properties\": {\n        \"dtype\": \"number\",\n        \"std\": 3523.6429897721623,\n        \"min\": 0.0,\n        \"max\": 9982.0,\n        \"num_unique_values\": 8,\n        \"samples\": [\n          5.196954518132639,\n          4.0,\n          9982.0\n        ],\n        \"semantic_type\": \"\",\n        \"description\": \"\"\n      }\n    },\n    {\n      \"column\": \"NumRotatableBonds\",\n      \"properties\": {\n        \"dtype\": \"number\",\n        \"std\": 3521.4339209590967,\n        \"min\": 0.0,\n        \"max\": 9982.0,\n        \"num_unique_values\": 8,\n        \"samples\": [\n          4.073031456621919,\n          3.0,\n          9982.0\n        ],\n        \"semantic_type\": \"\",\n        \"description\": \"\"\n      }\n    },\n    {\n      \"column\": \"NumValenceElectrons\",\n      \"properties\": {\n        \"dtype\": \"number\",\n        \"std\": 3474.1637407856274,\n        \"min\": 0.0,\n        \"max\": 9982.0,\n        \"num_unique_values\": 8,\n        \"samples\": [\n          94.24343818873973,\n          82.0,\n          9982.0\n        ],\n        \"semantic_type\": \"\",\n        \"description\": \"\"\n      }\n    },\n    {\n      \"column\": \"NumAromaticRings\",\n      \"properties\": {\n        \"dtype\": \"number\",\n        \"std\": 3527.150810628372,\n        \"min\": 0.0,\n        \"max\": 9982.0,\n        \"num_unique_values\": 7,\n        \"samples\": [\n          9982.0,\n          1.0683229813664596,\n          2.0\n        ],\n        \"semantic_type\": \"\",\n        \"description\": \"\"\n      }\n    },\n    {\n      \"column\": \"NumSaturatedRings\",\n      \"properties\": {\n        \"dtype\": \"number\",\n        \"std\": 3527.610939988532,\n        \"min\": 0.0,\n        \"max\": 9982.0,\n        \"num_unique_values\": 5,\n        \"samples\": [\n          0.2926267281105991,\n          30.0,\n          0.8795986305386624\n        ],\n        \"semantic_type\": \"\",\n        \"description\": \"\"\n      }\n    },\n    {\n      \"column\": \"NumAliphaticRings\",\n      \"properties\": {\n        \"dtype\": \"number\",\n        \"std\": 3527.5435471771025,\n        \"min\": 0.0,\n        \"max\": 9982.0,\n        \"num_unique_values\": 6,\n        \"samples\": [\n          9982.0,\n          0.4476056902424364,\n          30.0\n        ],\n        \"semantic_type\": \"\",\n        \"description\": \"\"\n      }\n    },\n    {\n      \"column\": \"RingCount\",\n      \"properties\": {\n        \"dtype\": \"number\",\n        \"std\": 3527.061836321016,\n        \"min\": 0.0,\n        \"max\": 9982.0,\n        \"num_unique_values\": 7,\n        \"samples\": [\n          9982.0,\n          1.515928671608896,\n          2.0\n        ],\n        \"semantic_type\": \"\",\n        \"description\": \"\"\n      }\n    },\n    {\n      \"column\": \"TPSA\",\n      \"properties\": {\n        \"dtype\": \"number\",\n        \"std\": 3477.6851523029036,\n        \"min\": 0.0,\n        \"max\": 9982.0,\n        \"num_unique_values\": 8,\n        \"samples\": [\n          62.458601482668804,\n          50.72,\n          9982.0\n        ],\n        \"semantic_type\": \"\",\n        \"description\": \"\"\n      }\n    },\n    {\n      \"column\": \"LabuteASA\",\n      \"properties\": {\n        \"dtype\": \"number\",\n        \"std\": 3474.8017493720668,\n        \"min\": 7.50422812385033,\n        \"max\": 9982.0,\n        \"num_unique_values\": 8,\n        \"samples\": [\n          108.91258630681975,\n          93.29987312982331,\n          9982.0\n        ],\n        \"semantic_type\": \"\",\n        \"description\": \"\"\n      }\n    },\n    {\n      \"column\": \"BalabanJ\",\n      \"properties\": {\n        \"dtype\": \"number\",\n        \"std\": 3528.2323497545485,\n        \"min\": -4.204994880418988e-06,\n        \"max\": 9982.0,\n        \"num_unique_values\": 8,\n        \"samples\": [\n          2.392199227698486,\n          2.5395388613593903,\n          9982.0\n        ],\n        \"semantic_type\": \"\",\n        \"description\": \"\"\n      }\n    },\n    {\n      \"column\": \"BertzCT\",\n      \"properties\": {\n        \"dtype\": \"number\",\n        \"std\": 7513.949590202277,\n        \"min\": 0.0,\n        \"max\": 20720.267708143994,\n        \"num_unique_values\": 8,\n        \"samples\": [\n          467.33678174285336,\n          351.64043292764967,\n          9982.0\n        ],\n        \"semantic_type\": \"\",\n        \"description\": \"\"\n      }\n    }\n  ]\n}"
            }
          },
          "metadata": {},
          "execution_count": 14
        }
      ]
    },
    {
      "cell_type": "markdown",
      "source": [
        "## Missing values:"
      ],
      "metadata": {
        "id": "v1jYpyqyZA6V"
      }
    },
    {
      "cell_type": "code",
      "source": [
        "x.fillna(x.mean(), inplace=True)  # Fill with the mean value.\n",
        "# Delete rows containing missing values.\n",
        "x.dropna(inplace=True)\n",
        "len(x)"
      ],
      "metadata": {
        "colab": {
          "base_uri": "https://localhost:8080/"
        },
        "id": "fB97ON_VZB-h",
        "outputId": "c2ceff51-5fc8-42cc-e19e-f5c581caab89"
      },
      "execution_count": null,
      "outputs": [
        {
          "output_type": "execute_result",
          "data": {
            "text/plain": [
              "9982"
            ]
          },
          "metadata": {},
          "execution_count": 15
        }
      ]
    },
    {
      "cell_type": "code",
      "source": [
        "len(y)"
      ],
      "metadata": {
        "colab": {
          "base_uri": "https://localhost:8080/"
        },
        "id": "cgm-OrjmpbB8",
        "outputId": "e5569042-8acd-43ee-8089-2fb8b33bc05f"
      },
      "execution_count": null,
      "outputs": [
        {
          "output_type": "execute_result",
          "data": {
            "text/plain": [
              "9982"
            ]
          },
          "metadata": {},
          "execution_count": 16
        }
      ]
    },
    {
      "cell_type": "markdown",
      "source": [
        "## Normalize numerical features："
      ],
      "metadata": {
        "id": "keOs7opUZLCi"
      }
    },
    {
      "cell_type": "markdown",
      "source": [
        "If the data follows a normal distribution or is close to a normal distribution: Z-Score normalization is applied, which adjusts the mean of each feature to 0 and the standard deviation to 1."
      ],
      "metadata": {
        "id": "-jmQXgQtkOO-"
      }
    },
    {
      "cell_type": "code",
      "source": [
        "scaler = StandardScaler()\n",
        "x_scaled = scaler.fit_transform(x) # Normalize all numerical features.\n",
        "\n",
        "print(\"The first 5 rows of the normalized data:\\n\", x_scaled[:5])"
      ],
      "metadata": {
        "colab": {
          "base_uri": "https://localhost:8080/"
        },
        "id": "JMiBNNqjUpPo",
        "outputId": "7591b633-701c-40ba-efc0-e8e1a4b541f9"
      },
      "execution_count": null,
      "outputs": [
        {
          "output_type": "stream",
          "name": "stdout",
          "text": [
            "The first 5 rows of the normalized data:\n",
            " [[-0.28739417 -0.3694269  -0.48960115  0.68330451  0.56258654  0.76634302\n",
            "   0.45955079 -0.99678336 -0.74457428 -0.67502726  2.28931958  0.7376064\n",
            "  -0.81591169 -0.33269878 -0.42442588 -0.92195666 -0.98600473  0.64881939\n",
            "  -2.19252929 -0.47010139]\n",
            " [-0.28739417 -0.3694269  -0.48960115 -0.52931016  0.12120124 -0.32014559\n",
            "  -0.3573811  -0.71090801 -0.07293679 -0.67502726 -0.7213192  -0.49800416\n",
            "   0.71155089 -0.33269878  0.52378789  0.90258168 -0.52661664 -0.44113929\n",
            "   0.17487188  0.08030026]\n",
            " [-0.28739417 -0.3694269  -0.48960115 -0.68467766  0.04927642 -0.64390906\n",
            "  -0.68415386 -0.71090801 -0.74457428 -0.67502726 -0.5442228  -0.74512627\n",
            "  -0.0521804  -0.33269878 -0.42442588 -0.31377722 -0.71652863 -0.66246644\n",
            "   0.56603488 -0.48421813]\n",
            " [-0.28739417 -0.3694269  -0.48960115  2.65819945  1.74465537  2.87863326\n",
            "   2.91034647  0.71846873  0.5987007   0.38070759  1.04964478  2.6219125\n",
            "   3.76647606 -0.33269878 -0.42442588  2.72712003  0.91974545  2.80991302\n",
            "  -2.19252908  2.7392976 ]\n",
            " [-0.28739417 -0.3694269  -0.48960115  0.84627912  0.14391584  1.12383127\n",
            "   1.1130963   0.71846873 -0.74457428  0.16956062  1.40383758  1.0773993\n",
            "   0.71155089  4.21505771  3.36842921  2.72712003 -0.092487    0.97138052\n",
            "  -1.19861598  0.55353232]]\n"
          ]
        }
      ]
    },
    {
      "cell_type": "markdown",
      "source": [
        "## Feature selection or dimensionality reduction："
      ],
      "metadata": {
        "id": "Cj7dad2AaiFs"
      }
    },
    {
      "cell_type": "code",
      "source": [
        "# Calculate the correlation\n",
        "correlation_matrix = x.corr()\n",
        "\n",
        "# Get feature pairs with correlation greater than 0.9\n",
        "high_correlation = correlation_matrix[correlation_matrix > 0.9]\n",
        "print(high_correlation)"
      ],
      "metadata": {
        "colab": {
          "base_uri": "https://localhost:8080/"
        },
        "id": "um03y8wgai3D",
        "outputId": "5e0b3302-3f23-4182-872d-1f7293dd6bd5"
      },
      "execution_count": null,
      "outputs": [
        {
          "output_type": "stream",
          "name": "stdout",
          "text": [
            "                      SD  Ocurrences  Group     MolWt  MolLogP     MolMR  \\\n",
            "SD                   1.0         NaN    NaN       NaN      NaN       NaN   \n",
            "Ocurrences           NaN         1.0    NaN       NaN      NaN       NaN   \n",
            "Group                NaN         NaN    1.0       NaN      NaN       NaN   \n",
            "MolWt                NaN         NaN    NaN  1.000000      NaN  0.918897   \n",
            "MolLogP              NaN         NaN    NaN       NaN      1.0       NaN   \n",
            "MolMR                NaN         NaN    NaN  0.918897      NaN  1.000000   \n",
            "HeavyAtomCount       NaN         NaN    NaN  0.950358      NaN  0.974646   \n",
            "NumHAcceptors        NaN         NaN    NaN       NaN      NaN       NaN   \n",
            "NumHDonors           NaN         NaN    NaN       NaN      NaN       NaN   \n",
            "NumHeteroatoms       NaN         NaN    NaN       NaN      NaN       NaN   \n",
            "NumRotatableBonds    NaN         NaN    NaN       NaN      NaN       NaN   \n",
            "NumValenceElectrons  NaN         NaN    NaN  0.945888      NaN  0.973741   \n",
            "NumAromaticRings     NaN         NaN    NaN       NaN      NaN       NaN   \n",
            "NumSaturatedRings    NaN         NaN    NaN       NaN      NaN       NaN   \n",
            "NumAliphaticRings    NaN         NaN    NaN       NaN      NaN       NaN   \n",
            "RingCount            NaN         NaN    NaN       NaN      NaN       NaN   \n",
            "TPSA                 NaN         NaN    NaN       NaN      NaN       NaN   \n",
            "LabuteASA            NaN         NaN    NaN  0.972633      NaN  0.956373   \n",
            "BalabanJ             NaN         NaN    NaN       NaN      NaN       NaN   \n",
            "BertzCT              NaN         NaN    NaN       NaN      NaN       NaN   \n",
            "\n",
            "                     HeavyAtomCount  NumHAcceptors  NumHDonors  \\\n",
            "SD                              NaN            NaN         NaN   \n",
            "Ocurrences                      NaN            NaN         NaN   \n",
            "Group                           NaN            NaN         NaN   \n",
            "MolWt                      0.950358            NaN         NaN   \n",
            "MolLogP                         NaN            NaN         NaN   \n",
            "MolMR                      0.974646            NaN         NaN   \n",
            "HeavyAtomCount             1.000000            NaN         NaN   \n",
            "NumHAcceptors                   NaN       1.000000         NaN   \n",
            "NumHDonors                      NaN            NaN         1.0   \n",
            "NumHeteroatoms                  NaN            NaN         NaN   \n",
            "NumRotatableBonds               NaN            NaN         NaN   \n",
            "NumValenceElectrons        0.992939            NaN         NaN   \n",
            "NumAromaticRings                NaN            NaN         NaN   \n",
            "NumSaturatedRings               NaN            NaN         NaN   \n",
            "NumAliphaticRings               NaN            NaN         NaN   \n",
            "RingCount                       NaN            NaN         NaN   \n",
            "TPSA                            NaN       0.900391         NaN   \n",
            "LabuteASA                  0.983198            NaN         NaN   \n",
            "BalabanJ                        NaN            NaN         NaN   \n",
            "BertzCT                    0.901773            NaN         NaN   \n",
            "\n",
            "                     NumHeteroatoms  NumRotatableBonds  NumValenceElectrons  \\\n",
            "SD                              NaN                NaN                  NaN   \n",
            "Ocurrences                      NaN                NaN                  NaN   \n",
            "Group                           NaN                NaN                  NaN   \n",
            "MolWt                           NaN                NaN             0.945888   \n",
            "MolLogP                         NaN                NaN                  NaN   \n",
            "MolMR                           NaN                NaN             0.973741   \n",
            "HeavyAtomCount                  NaN                NaN             0.992939   \n",
            "NumHAcceptors                   NaN                NaN                  NaN   \n",
            "NumHDonors                      NaN                NaN                  NaN   \n",
            "NumHeteroatoms                  1.0                NaN                  NaN   \n",
            "NumRotatableBonds               NaN                1.0                  NaN   \n",
            "NumValenceElectrons             NaN                NaN             1.000000   \n",
            "NumAromaticRings                NaN                NaN                  NaN   \n",
            "NumSaturatedRings               NaN                NaN                  NaN   \n",
            "NumAliphaticRings               NaN                NaN                  NaN   \n",
            "RingCount                       NaN                NaN                  NaN   \n",
            "TPSA                            NaN                NaN                  NaN   \n",
            "LabuteASA                       NaN                NaN             0.973901   \n",
            "BalabanJ                        NaN                NaN                  NaN   \n",
            "BertzCT                         NaN                NaN                  NaN   \n",
            "\n",
            "                     NumAromaticRings  NumSaturatedRings  NumAliphaticRings  \\\n",
            "SD                                NaN                NaN                NaN   \n",
            "Ocurrences                        NaN                NaN                NaN   \n",
            "Group                             NaN                NaN                NaN   \n",
            "MolWt                             NaN                NaN                NaN   \n",
            "MolLogP                           NaN                NaN                NaN   \n",
            "MolMR                             NaN                NaN                NaN   \n",
            "HeavyAtomCount                    NaN                NaN                NaN   \n",
            "NumHAcceptors                     NaN                NaN                NaN   \n",
            "NumHDonors                        NaN                NaN                NaN   \n",
            "NumHeteroatoms                    NaN                NaN                NaN   \n",
            "NumRotatableBonds                 NaN                NaN                NaN   \n",
            "NumValenceElectrons               NaN                NaN                NaN   \n",
            "NumAromaticRings                  1.0                NaN                NaN   \n",
            "NumSaturatedRings                 NaN           1.000000           0.903483   \n",
            "NumAliphaticRings                 NaN           0.903483           1.000000   \n",
            "RingCount                         NaN                NaN                NaN   \n",
            "TPSA                              NaN                NaN                NaN   \n",
            "LabuteASA                         NaN                NaN                NaN   \n",
            "BalabanJ                          NaN                NaN                NaN   \n",
            "BertzCT                           NaN                NaN                NaN   \n",
            "\n",
            "                     RingCount      TPSA  LabuteASA  BalabanJ   BertzCT  \n",
            "SD                         NaN       NaN        NaN       NaN       NaN  \n",
            "Ocurrences                 NaN       NaN        NaN       NaN       NaN  \n",
            "Group                      NaN       NaN        NaN       NaN       NaN  \n",
            "MolWt                      NaN       NaN   0.972633       NaN       NaN  \n",
            "MolLogP                    NaN       NaN        NaN       NaN       NaN  \n",
            "MolMR                      NaN       NaN   0.956373       NaN       NaN  \n",
            "HeavyAtomCount             NaN       NaN   0.983198       NaN  0.901773  \n",
            "NumHAcceptors              NaN  0.900391        NaN       NaN       NaN  \n",
            "NumHDonors                 NaN       NaN        NaN       NaN       NaN  \n",
            "NumHeteroatoms             NaN       NaN        NaN       NaN       NaN  \n",
            "NumRotatableBonds          NaN       NaN        NaN       NaN       NaN  \n",
            "NumValenceElectrons        NaN       NaN   0.973901       NaN       NaN  \n",
            "NumAromaticRings           NaN       NaN        NaN       NaN       NaN  \n",
            "NumSaturatedRings          NaN       NaN        NaN       NaN       NaN  \n",
            "NumAliphaticRings          NaN       NaN        NaN       NaN       NaN  \n",
            "RingCount                  1.0       NaN        NaN       NaN       NaN  \n",
            "TPSA                       NaN  1.000000        NaN       NaN       NaN  \n",
            "LabuteASA                  NaN       NaN   1.000000       NaN       NaN  \n",
            "BalabanJ                   NaN       NaN        NaN       1.0       NaN  \n",
            "BertzCT                    NaN       NaN        NaN       NaN  1.000000  \n"
          ]
        }
      ]
    },
    {
      "cell_type": "markdown",
      "source": [
        "## Dimensionality reduction using Principal Component Analysis (PCA)："
      ],
      "metadata": {
        "id": "G1mNbAoekUuE"
      }
    },
    {
      "cell_type": "markdown",
      "source": [
        "If the data has very high dimensionality (many features), Principal Component Analysis (PCA) can be used for dimensionality reduction. PCA selects the most important features based on the variance, with features having low variance typically being discarded."
      ],
      "metadata": {
        "id": "y2ABkXMydC_2"
      }
    },
    {
      "cell_type": "code",
      "source": [
        "# Perform dimensionality reduction using PCA.\n",
        "from sklearn.decomposition import PCA\n",
        "pca = PCA(n_components=5)  # Reduce the data to 5 principal components.\n",
        "x_reduced = pca.fit_transform(x)\n",
        "print(x_reduced)"
      ],
      "metadata": {
        "colab": {
          "base_uri": "https://localhost:8080/"
        },
        "id": "2aCrKCJ1cxRw",
        "outputId": "0a781c84-845a-4d64-a32c-589bc0f677c7"
      },
      "execution_count": null,
      "outputs": [
        {
          "output_type": "stream",
          "name": "stdout",
          "text": [
            "[[-1.97436781e+02  2.17295117e+02 -7.53848978e+01  7.61305916e+00\n",
            "   4.84271544e+00]\n",
            " [ 2.93871449e+00 -1.20619205e+02 -2.05745594e+01 -3.19320365e+00\n",
            "   6.97743984e-02]\n",
            " [-3.01108082e+02 -5.36709786e+01 -1.70223429e+01 -7.52547883e+00\n",
            "   2.83093522e+00]\n",
            " ...\n",
            " [-2.49371893e+02 -5.35421595e+01 -1.96841993e+01  4.60637317e+00\n",
            "   1.16710235e+00]\n",
            " [ 5.20413539e+02  5.79967688e+01 -4.74233746e+01  2.29609240e+01\n",
            "  -8.28670322e-01]\n",
            " [ 4.34800917e+02 -9.72951276e+01 -1.67912100e+01  2.90015738e+00\n",
            "  -3.56499553e+00]]\n"
          ]
        }
      ]
    },
    {
      "cell_type": "markdown",
      "source": [
        "# Data set classification:"
      ],
      "metadata": {
        "id": "KjgsYm-vh9S6"
      }
    },
    {
      "cell_type": "code",
      "source": [
        "seed = 42 # Set a random seed to ensure that all subsequent calculations are reproducible."
      ],
      "metadata": {
        "id": "UeoTEguZiEz6"
      },
      "execution_count": null,
      "outputs": []
    },
    {
      "cell_type": "code",
      "source": [
        "# randomly select 20% of compounds as test set\n",
        "x_tr, x_ts, y_tr, y_ts = train_test_split(x, y, test_size=0.20, random_state=seed)"
      ],
      "metadata": {
        "id": "NwDSfnD9h-Qk"
      },
      "execution_count": null,
      "outputs": []
    },
    {
      "cell_type": "markdown",
      "source": [
        "# Hyperparameter tuning:"
      ],
      "metadata": {
        "id": "oOc8VFBvqjbb"
      }
    },
    {
      "cell_type": "markdown",
      "source": [
        "Grid Search: Suitable for fine-tuning within a small range, but computationally expensive.\n",
        "\n",
        "Random Search: Suitable for tuning over a large range, faster, but may not be as precise.\n",
        "\n",
        "Bayesian Optimization: More intelligent, suitable for efficient optimization.\n",
        "\n",
        "✅ Important hyperparameters of SVR:"
      ],
      "metadata": {
        "id": "BdzPmJ4zrE8h"
      }
    },
    {
      "cell_type": "markdown",
      "source": [
        "## Perform hyperparameter optimization using a grid search dictionary："
      ],
      "metadata": {
        "id": "T5k51Vdks6wv"
      }
    },
    {
      "cell_type": "code",
      "source": [
        "from sklearn.tree import DecisionTreeRegressor\n",
        "from sklearn.model_selection import GridSearchCV\n",
        "\n",
        "# Set the hyperparameter search space\n",
        "param_grid = {\n",
        "    'max_depth': [3, 5, 10, None],  # Maximum depth of the tree.\n",
        "    'min_samples_split': [2, 5, 10],  # Minimum samples per internal node.\n",
        "    'min_samples_leaf': [1, 2, 5]  # Minimum samples per leaf node.\n",
        "}\n",
        "\n",
        "# Create the model.\n",
        "dt = DecisionTreeRegressor()\n",
        "\n",
        "# Grid search + 5-fold cross-validation.\n",
        "grid_search = GridSearchCV(dt, param_grid, cv=5, scoring='neg_mean_squared_error')\n",
        "grid_search.fit(x_tr, y_tr)\n",
        "\n",
        "# Output the best parameters.\n",
        "print(\"Best Parameters:\", grid_search.best_params_)"
      ],
      "metadata": {
        "colab": {
          "base_uri": "https://localhost:8080/"
        },
        "id": "gc9cLF_uw65L",
        "outputId": "d85b2080-69d9-4a76-a3f7-83a138c57dd9"
      },
      "execution_count": null,
      "outputs": [
        {
          "output_type": "stream",
          "name": "stdout",
          "text": [
            "Best Parameters: {'max_depth': 10, 'min_samples_leaf': 5, 'min_samples_split': 5}\n"
          ]
        }
      ]
    },
    {
      "cell_type": "markdown",
      "source": [
        "# Train the model："
      ],
      "metadata": {
        "id": "e6e8gxOYkqyE"
      }
    },
    {
      "cell_type": "markdown",
      "source": [
        "Linear Regression: Suitable for linear relationships and simple data, fast in computation, but sensitive to outliers.\n",
        "\n",
        "Decision Tree Regression: Suitable for non-linear relationships, can handle complex data structures, has good interpretability, but prone to overfitting.\n",
        "\n",
        "SVR (Support Vector Regression): Suitable for high-dimensional and complex non-linear regression problems, robust to outliers, but computationally expensive and requires parameter tuning.\n"
      ],
      "metadata": {
        "id": "CXSTt_B4sbwl"
      }
    },
    {
      "cell_type": "markdown",
      "source": [
        "## Creating decision tree regression models using best hyperparameters："
      ],
      "metadata": {
        "id": "Vba9zcZEksNx"
      }
    },
    {
      "cell_type": "code",
      "source": [
        "# Create the model using the best hyperparameters\n",
        "best_model = DecisionTreeRegressor(\n",
        "    max_depth=10,\n",
        "    min_samples_leaf=5,\n",
        "    min_samples_split=5)\n",
        "# Train the model\n",
        "best_model.fit(x_tr, y_tr)"
      ],
      "metadata": {
        "colab": {
          "base_uri": "https://localhost:8080/",
          "height": 80
        },
        "id": "IgTjV4EHxr0N",
        "outputId": "4a3d1baa-7244-4170-8fce-31e9c8d4b690"
      },
      "execution_count": null,
      "outputs": [
        {
          "output_type": "execute_result",
          "data": {
            "text/plain": [
              "DecisionTreeRegressor(max_depth=10, min_samples_leaf=5, min_samples_split=5)"
            ],
            "text/html": [
              "<style>#sk-container-id-1 {\n",
              "  /* Definition of color scheme common for light and dark mode */\n",
              "  --sklearn-color-text: #000;\n",
              "  --sklearn-color-text-muted: #666;\n",
              "  --sklearn-color-line: gray;\n",
              "  /* Definition of color scheme for unfitted estimators */\n",
              "  --sklearn-color-unfitted-level-0: #fff5e6;\n",
              "  --sklearn-color-unfitted-level-1: #f6e4d2;\n",
              "  --sklearn-color-unfitted-level-2: #ffe0b3;\n",
              "  --sklearn-color-unfitted-level-3: chocolate;\n",
              "  /* Definition of color scheme for fitted estimators */\n",
              "  --sklearn-color-fitted-level-0: #f0f8ff;\n",
              "  --sklearn-color-fitted-level-1: #d4ebff;\n",
              "  --sklearn-color-fitted-level-2: #b3dbfd;\n",
              "  --sklearn-color-fitted-level-3: cornflowerblue;\n",
              "\n",
              "  /* Specific color for light theme */\n",
              "  --sklearn-color-text-on-default-background: var(--sg-text-color, var(--theme-code-foreground, var(--jp-content-font-color1, black)));\n",
              "  --sklearn-color-background: var(--sg-background-color, var(--theme-background, var(--jp-layout-color0, white)));\n",
              "  --sklearn-color-border-box: var(--sg-text-color, var(--theme-code-foreground, var(--jp-content-font-color1, black)));\n",
              "  --sklearn-color-icon: #696969;\n",
              "\n",
              "  @media (prefers-color-scheme: dark) {\n",
              "    /* Redefinition of color scheme for dark theme */\n",
              "    --sklearn-color-text-on-default-background: var(--sg-text-color, var(--theme-code-foreground, var(--jp-content-font-color1, white)));\n",
              "    --sklearn-color-background: var(--sg-background-color, var(--theme-background, var(--jp-layout-color0, #111)));\n",
              "    --sklearn-color-border-box: var(--sg-text-color, var(--theme-code-foreground, var(--jp-content-font-color1, white)));\n",
              "    --sklearn-color-icon: #878787;\n",
              "  }\n",
              "}\n",
              "\n",
              "#sk-container-id-1 {\n",
              "  color: var(--sklearn-color-text);\n",
              "}\n",
              "\n",
              "#sk-container-id-1 pre {\n",
              "  padding: 0;\n",
              "}\n",
              "\n",
              "#sk-container-id-1 input.sk-hidden--visually {\n",
              "  border: 0;\n",
              "  clip: rect(1px 1px 1px 1px);\n",
              "  clip: rect(1px, 1px, 1px, 1px);\n",
              "  height: 1px;\n",
              "  margin: -1px;\n",
              "  overflow: hidden;\n",
              "  padding: 0;\n",
              "  position: absolute;\n",
              "  width: 1px;\n",
              "}\n",
              "\n",
              "#sk-container-id-1 div.sk-dashed-wrapped {\n",
              "  border: 1px dashed var(--sklearn-color-line);\n",
              "  margin: 0 0.4em 0.5em 0.4em;\n",
              "  box-sizing: border-box;\n",
              "  padding-bottom: 0.4em;\n",
              "  background-color: var(--sklearn-color-background);\n",
              "}\n",
              "\n",
              "#sk-container-id-1 div.sk-container {\n",
              "  /* jupyter's `normalize.less` sets `[hidden] { display: none; }`\n",
              "     but bootstrap.min.css set `[hidden] { display: none !important; }`\n",
              "     so we also need the `!important` here to be able to override the\n",
              "     default hidden behavior on the sphinx rendered scikit-learn.org.\n",
              "     See: https://github.com/scikit-learn/scikit-learn/issues/21755 */\n",
              "  display: inline-block !important;\n",
              "  position: relative;\n",
              "}\n",
              "\n",
              "#sk-container-id-1 div.sk-text-repr-fallback {\n",
              "  display: none;\n",
              "}\n",
              "\n",
              "div.sk-parallel-item,\n",
              "div.sk-serial,\n",
              "div.sk-item {\n",
              "  /* draw centered vertical line to link estimators */\n",
              "  background-image: linear-gradient(var(--sklearn-color-text-on-default-background), var(--sklearn-color-text-on-default-background));\n",
              "  background-size: 2px 100%;\n",
              "  background-repeat: no-repeat;\n",
              "  background-position: center center;\n",
              "}\n",
              "\n",
              "/* Parallel-specific style estimator block */\n",
              "\n",
              "#sk-container-id-1 div.sk-parallel-item::after {\n",
              "  content: \"\";\n",
              "  width: 100%;\n",
              "  border-bottom: 2px solid var(--sklearn-color-text-on-default-background);\n",
              "  flex-grow: 1;\n",
              "}\n",
              "\n",
              "#sk-container-id-1 div.sk-parallel {\n",
              "  display: flex;\n",
              "  align-items: stretch;\n",
              "  justify-content: center;\n",
              "  background-color: var(--sklearn-color-background);\n",
              "  position: relative;\n",
              "}\n",
              "\n",
              "#sk-container-id-1 div.sk-parallel-item {\n",
              "  display: flex;\n",
              "  flex-direction: column;\n",
              "}\n",
              "\n",
              "#sk-container-id-1 div.sk-parallel-item:first-child::after {\n",
              "  align-self: flex-end;\n",
              "  width: 50%;\n",
              "}\n",
              "\n",
              "#sk-container-id-1 div.sk-parallel-item:last-child::after {\n",
              "  align-self: flex-start;\n",
              "  width: 50%;\n",
              "}\n",
              "\n",
              "#sk-container-id-1 div.sk-parallel-item:only-child::after {\n",
              "  width: 0;\n",
              "}\n",
              "\n",
              "/* Serial-specific style estimator block */\n",
              "\n",
              "#sk-container-id-1 div.sk-serial {\n",
              "  display: flex;\n",
              "  flex-direction: column;\n",
              "  align-items: center;\n",
              "  background-color: var(--sklearn-color-background);\n",
              "  padding-right: 1em;\n",
              "  padding-left: 1em;\n",
              "}\n",
              "\n",
              "\n",
              "/* Toggleable style: style used for estimator/Pipeline/ColumnTransformer box that is\n",
              "clickable and can be expanded/collapsed.\n",
              "- Pipeline and ColumnTransformer use this feature and define the default style\n",
              "- Estimators will overwrite some part of the style using the `sk-estimator` class\n",
              "*/\n",
              "\n",
              "/* Pipeline and ColumnTransformer style (default) */\n",
              "\n",
              "#sk-container-id-1 div.sk-toggleable {\n",
              "  /* Default theme specific background. It is overwritten whether we have a\n",
              "  specific estimator or a Pipeline/ColumnTransformer */\n",
              "  background-color: var(--sklearn-color-background);\n",
              "}\n",
              "\n",
              "/* Toggleable label */\n",
              "#sk-container-id-1 label.sk-toggleable__label {\n",
              "  cursor: pointer;\n",
              "  display: flex;\n",
              "  width: 100%;\n",
              "  margin-bottom: 0;\n",
              "  padding: 0.5em;\n",
              "  box-sizing: border-box;\n",
              "  text-align: center;\n",
              "  align-items: start;\n",
              "  justify-content: space-between;\n",
              "  gap: 0.5em;\n",
              "}\n",
              "\n",
              "#sk-container-id-1 label.sk-toggleable__label .caption {\n",
              "  font-size: 0.6rem;\n",
              "  font-weight: lighter;\n",
              "  color: var(--sklearn-color-text-muted);\n",
              "}\n",
              "\n",
              "#sk-container-id-1 label.sk-toggleable__label-arrow:before {\n",
              "  /* Arrow on the left of the label */\n",
              "  content: \"▸\";\n",
              "  float: left;\n",
              "  margin-right: 0.25em;\n",
              "  color: var(--sklearn-color-icon);\n",
              "}\n",
              "\n",
              "#sk-container-id-1 label.sk-toggleable__label-arrow:hover:before {\n",
              "  color: var(--sklearn-color-text);\n",
              "}\n",
              "\n",
              "/* Toggleable content - dropdown */\n",
              "\n",
              "#sk-container-id-1 div.sk-toggleable__content {\n",
              "  max-height: 0;\n",
              "  max-width: 0;\n",
              "  overflow: hidden;\n",
              "  text-align: left;\n",
              "  /* unfitted */\n",
              "  background-color: var(--sklearn-color-unfitted-level-0);\n",
              "}\n",
              "\n",
              "#sk-container-id-1 div.sk-toggleable__content.fitted {\n",
              "  /* fitted */\n",
              "  background-color: var(--sklearn-color-fitted-level-0);\n",
              "}\n",
              "\n",
              "#sk-container-id-1 div.sk-toggleable__content pre {\n",
              "  margin: 0.2em;\n",
              "  border-radius: 0.25em;\n",
              "  color: var(--sklearn-color-text);\n",
              "  /* unfitted */\n",
              "  background-color: var(--sklearn-color-unfitted-level-0);\n",
              "}\n",
              "\n",
              "#sk-container-id-1 div.sk-toggleable__content.fitted pre {\n",
              "  /* unfitted */\n",
              "  background-color: var(--sklearn-color-fitted-level-0);\n",
              "}\n",
              "\n",
              "#sk-container-id-1 input.sk-toggleable__control:checked~div.sk-toggleable__content {\n",
              "  /* Expand drop-down */\n",
              "  max-height: 200px;\n",
              "  max-width: 100%;\n",
              "  overflow: auto;\n",
              "}\n",
              "\n",
              "#sk-container-id-1 input.sk-toggleable__control:checked~label.sk-toggleable__label-arrow:before {\n",
              "  content: \"▾\";\n",
              "}\n",
              "\n",
              "/* Pipeline/ColumnTransformer-specific style */\n",
              "\n",
              "#sk-container-id-1 div.sk-label input.sk-toggleable__control:checked~label.sk-toggleable__label {\n",
              "  color: var(--sklearn-color-text);\n",
              "  background-color: var(--sklearn-color-unfitted-level-2);\n",
              "}\n",
              "\n",
              "#sk-container-id-1 div.sk-label.fitted input.sk-toggleable__control:checked~label.sk-toggleable__label {\n",
              "  background-color: var(--sklearn-color-fitted-level-2);\n",
              "}\n",
              "\n",
              "/* Estimator-specific style */\n",
              "\n",
              "/* Colorize estimator box */\n",
              "#sk-container-id-1 div.sk-estimator input.sk-toggleable__control:checked~label.sk-toggleable__label {\n",
              "  /* unfitted */\n",
              "  background-color: var(--sklearn-color-unfitted-level-2);\n",
              "}\n",
              "\n",
              "#sk-container-id-1 div.sk-estimator.fitted input.sk-toggleable__control:checked~label.sk-toggleable__label {\n",
              "  /* fitted */\n",
              "  background-color: var(--sklearn-color-fitted-level-2);\n",
              "}\n",
              "\n",
              "#sk-container-id-1 div.sk-label label.sk-toggleable__label,\n",
              "#sk-container-id-1 div.sk-label label {\n",
              "  /* The background is the default theme color */\n",
              "  color: var(--sklearn-color-text-on-default-background);\n",
              "}\n",
              "\n",
              "/* On hover, darken the color of the background */\n",
              "#sk-container-id-1 div.sk-label:hover label.sk-toggleable__label {\n",
              "  color: var(--sklearn-color-text);\n",
              "  background-color: var(--sklearn-color-unfitted-level-2);\n",
              "}\n",
              "\n",
              "/* Label box, darken color on hover, fitted */\n",
              "#sk-container-id-1 div.sk-label.fitted:hover label.sk-toggleable__label.fitted {\n",
              "  color: var(--sklearn-color-text);\n",
              "  background-color: var(--sklearn-color-fitted-level-2);\n",
              "}\n",
              "\n",
              "/* Estimator label */\n",
              "\n",
              "#sk-container-id-1 div.sk-label label {\n",
              "  font-family: monospace;\n",
              "  font-weight: bold;\n",
              "  display: inline-block;\n",
              "  line-height: 1.2em;\n",
              "}\n",
              "\n",
              "#sk-container-id-1 div.sk-label-container {\n",
              "  text-align: center;\n",
              "}\n",
              "\n",
              "/* Estimator-specific */\n",
              "#sk-container-id-1 div.sk-estimator {\n",
              "  font-family: monospace;\n",
              "  border: 1px dotted var(--sklearn-color-border-box);\n",
              "  border-radius: 0.25em;\n",
              "  box-sizing: border-box;\n",
              "  margin-bottom: 0.5em;\n",
              "  /* unfitted */\n",
              "  background-color: var(--sklearn-color-unfitted-level-0);\n",
              "}\n",
              "\n",
              "#sk-container-id-1 div.sk-estimator.fitted {\n",
              "  /* fitted */\n",
              "  background-color: var(--sklearn-color-fitted-level-0);\n",
              "}\n",
              "\n",
              "/* on hover */\n",
              "#sk-container-id-1 div.sk-estimator:hover {\n",
              "  /* unfitted */\n",
              "  background-color: var(--sklearn-color-unfitted-level-2);\n",
              "}\n",
              "\n",
              "#sk-container-id-1 div.sk-estimator.fitted:hover {\n",
              "  /* fitted */\n",
              "  background-color: var(--sklearn-color-fitted-level-2);\n",
              "}\n",
              "\n",
              "/* Specification for estimator info (e.g. \"i\" and \"?\") */\n",
              "\n",
              "/* Common style for \"i\" and \"?\" */\n",
              "\n",
              ".sk-estimator-doc-link,\n",
              "a:link.sk-estimator-doc-link,\n",
              "a:visited.sk-estimator-doc-link {\n",
              "  float: right;\n",
              "  font-size: smaller;\n",
              "  line-height: 1em;\n",
              "  font-family: monospace;\n",
              "  background-color: var(--sklearn-color-background);\n",
              "  border-radius: 1em;\n",
              "  height: 1em;\n",
              "  width: 1em;\n",
              "  text-decoration: none !important;\n",
              "  margin-left: 0.5em;\n",
              "  text-align: center;\n",
              "  /* unfitted */\n",
              "  border: var(--sklearn-color-unfitted-level-1) 1pt solid;\n",
              "  color: var(--sklearn-color-unfitted-level-1);\n",
              "}\n",
              "\n",
              ".sk-estimator-doc-link.fitted,\n",
              "a:link.sk-estimator-doc-link.fitted,\n",
              "a:visited.sk-estimator-doc-link.fitted {\n",
              "  /* fitted */\n",
              "  border: var(--sklearn-color-fitted-level-1) 1pt solid;\n",
              "  color: var(--sklearn-color-fitted-level-1);\n",
              "}\n",
              "\n",
              "/* On hover */\n",
              "div.sk-estimator:hover .sk-estimator-doc-link:hover,\n",
              ".sk-estimator-doc-link:hover,\n",
              "div.sk-label-container:hover .sk-estimator-doc-link:hover,\n",
              ".sk-estimator-doc-link:hover {\n",
              "  /* unfitted */\n",
              "  background-color: var(--sklearn-color-unfitted-level-3);\n",
              "  color: var(--sklearn-color-background);\n",
              "  text-decoration: none;\n",
              "}\n",
              "\n",
              "div.sk-estimator.fitted:hover .sk-estimator-doc-link.fitted:hover,\n",
              ".sk-estimator-doc-link.fitted:hover,\n",
              "div.sk-label-container:hover .sk-estimator-doc-link.fitted:hover,\n",
              ".sk-estimator-doc-link.fitted:hover {\n",
              "  /* fitted */\n",
              "  background-color: var(--sklearn-color-fitted-level-3);\n",
              "  color: var(--sklearn-color-background);\n",
              "  text-decoration: none;\n",
              "}\n",
              "\n",
              "/* Span, style for the box shown on hovering the info icon */\n",
              ".sk-estimator-doc-link span {\n",
              "  display: none;\n",
              "  z-index: 9999;\n",
              "  position: relative;\n",
              "  font-weight: normal;\n",
              "  right: .2ex;\n",
              "  padding: .5ex;\n",
              "  margin: .5ex;\n",
              "  width: min-content;\n",
              "  min-width: 20ex;\n",
              "  max-width: 50ex;\n",
              "  color: var(--sklearn-color-text);\n",
              "  box-shadow: 2pt 2pt 4pt #999;\n",
              "  /* unfitted */\n",
              "  background: var(--sklearn-color-unfitted-level-0);\n",
              "  border: .5pt solid var(--sklearn-color-unfitted-level-3);\n",
              "}\n",
              "\n",
              ".sk-estimator-doc-link.fitted span {\n",
              "  /* fitted */\n",
              "  background: var(--sklearn-color-fitted-level-0);\n",
              "  border: var(--sklearn-color-fitted-level-3);\n",
              "}\n",
              "\n",
              ".sk-estimator-doc-link:hover span {\n",
              "  display: block;\n",
              "}\n",
              "\n",
              "/* \"?\"-specific style due to the `<a>` HTML tag */\n",
              "\n",
              "#sk-container-id-1 a.estimator_doc_link {\n",
              "  float: right;\n",
              "  font-size: 1rem;\n",
              "  line-height: 1em;\n",
              "  font-family: monospace;\n",
              "  background-color: var(--sklearn-color-background);\n",
              "  border-radius: 1rem;\n",
              "  height: 1rem;\n",
              "  width: 1rem;\n",
              "  text-decoration: none;\n",
              "  /* unfitted */\n",
              "  color: var(--sklearn-color-unfitted-level-1);\n",
              "  border: var(--sklearn-color-unfitted-level-1) 1pt solid;\n",
              "}\n",
              "\n",
              "#sk-container-id-1 a.estimator_doc_link.fitted {\n",
              "  /* fitted */\n",
              "  border: var(--sklearn-color-fitted-level-1) 1pt solid;\n",
              "  color: var(--sklearn-color-fitted-level-1);\n",
              "}\n",
              "\n",
              "/* On hover */\n",
              "#sk-container-id-1 a.estimator_doc_link:hover {\n",
              "  /* unfitted */\n",
              "  background-color: var(--sklearn-color-unfitted-level-3);\n",
              "  color: var(--sklearn-color-background);\n",
              "  text-decoration: none;\n",
              "}\n",
              "\n",
              "#sk-container-id-1 a.estimator_doc_link.fitted:hover {\n",
              "  /* fitted */\n",
              "  background-color: var(--sklearn-color-fitted-level-3);\n",
              "}\n",
              "</style><div id=\"sk-container-id-1\" class=\"sk-top-container\"><div class=\"sk-text-repr-fallback\"><pre>DecisionTreeRegressor(max_depth=10, min_samples_leaf=5, min_samples_split=5)</pre><b>In a Jupyter environment, please rerun this cell to show the HTML representation or trust the notebook. <br />On GitHub, the HTML representation is unable to render, please try loading this page with nbviewer.org.</b></div><div class=\"sk-container\" hidden><div class=\"sk-item\"><div class=\"sk-estimator fitted sk-toggleable\"><input class=\"sk-toggleable__control sk-hidden--visually\" id=\"sk-estimator-id-1\" type=\"checkbox\" checked><label for=\"sk-estimator-id-1\" class=\"sk-toggleable__label fitted sk-toggleable__label-arrow\"><div><div>DecisionTreeRegressor</div></div><div><a class=\"sk-estimator-doc-link fitted\" rel=\"noreferrer\" target=\"_blank\" href=\"https://scikit-learn.org/1.6/modules/generated/sklearn.tree.DecisionTreeRegressor.html\">?<span>Documentation for DecisionTreeRegressor</span></a><span class=\"sk-estimator-doc-link fitted\">i<span>Fitted</span></span></div></label><div class=\"sk-toggleable__content fitted\"><pre>DecisionTreeRegressor(max_depth=10, min_samples_leaf=5, min_samples_split=5)</pre></div> </div></div></div></div>"
            ]
          },
          "metadata": {},
          "execution_count": 23
        }
      ]
    },
    {
      "cell_type": "markdown",
      "source": [
        "## Make predictions using the trained model："
      ],
      "metadata": {
        "id": "ejcM9mKg8lB7"
      }
    },
    {
      "cell_type": "code",
      "source": [
        "# predict\n",
        "y_pred = best_model.predict(x_ts)\n",
        "print(\"Prediction results:\", y_pred)"
      ],
      "metadata": {
        "colab": {
          "base_uri": "https://localhost:8080/"
        },
        "id": "OqYWmbwQ8lem",
        "outputId": "33eea2c8-d03a-4d82-dd1d-a5666057ff94"
      },
      "execution_count": null,
      "outputs": [
        {
          "output_type": "stream",
          "name": "stdout",
          "text": [
            "Prediction results: [-3.79526509 -3.11422    -3.17111136 ... -3.59829957  0.49138508\n",
            " -2.03611923]\n"
          ]
        }
      ]
    },
    {
      "cell_type": "markdown",
      "source": [
        "### Evaluate the model's performance："
      ],
      "metadata": {
        "id": "vBYng67eytnv"
      }
    },
    {
      "cell_type": "code",
      "source": [
        "from sklearn.metrics import mean_squared_error, r2_score\n",
        "\n",
        "# Calculate the mean squared error\n",
        "mse = mean_squared_error(y_ts, y_pred)\n",
        "print(\"the mean squared error (MSE):\", mse)\n",
        "\n",
        "# Calculate the coefficient of determination (R²)\n",
        "r2 = r2_score(y_ts, y_pred)\n",
        "print(\"the coefficient of determination (R²):\", r2)"
      ],
      "metadata": {
        "colab": {
          "base_uri": "https://localhost:8080/"
        },
        "id": "7DqIhOtFyus7",
        "outputId": "96e72ff2-5ea2-4128-86e6-904c713fcf63"
      },
      "execution_count": null,
      "outputs": [
        {
          "output_type": "stream",
          "name": "stdout",
          "text": [
            "the mean squared error (MSE): 1.643806757956144\n",
            "the coefficient of determination (R²): 0.6969743330692016\n"
          ]
        }
      ]
    },
    {
      "cell_type": "markdown",
      "source": [
        "Dimensionality reduction (x):\n",
        "- Mean Squared Error (MSE): 2.208438915097816\n",
        "- Coefficient of Determination (R²): 0.5928878672116404\n",
        "\n",
        "Without dimensionality reduction (x):\n",
        "- Mean Squared Error (MSE): 1.637225536827746\n",
        "- Coefficient of Determination (R²): 0.6981875407117664"
      ],
      "metadata": {
        "id": "f8n8AERR2eCF"
      }
    },
    {
      "cell_type": "markdown",
      "source": [
        "✅The smaller the MSE and the closer R² is to 1, the better the model's performance."
      ],
      "metadata": {
        "id": "_CcQeK1yzDjJ"
      }
    },
    {
      "cell_type": "markdown",
      "source": [
        "## View feature importance:"
      ],
      "metadata": {
        "id": "HQUZ6tqctOuJ"
      }
    },
    {
      "cell_type": "code",
      "source": [
        "imf = best_model.feature_importances_\n",
        "print(imf)\n",
        "# Get feature names\n",
        "feature_names = best_model.feature_names_in_\n",
        "\n",
        "# Sort feature importance (from largest to smallest)\n",
        "indices = np.argsort(imf)[::-1]\n",
        "\n",
        "# Print feature rankings\n",
        "print(\"Feature ranking:\")\n",
        "\n",
        "# Print the top 10 features and their importance values\n",
        "for i in range(min(10, len(imf))):  # Prevent the number of features from being less than 10\n",
        "    print(f\"{i + 1}. {feature_names[indices[i]]} (Importance: {imf[indices[i]]:.6f})\")"
      ],
      "metadata": {
        "colab": {
          "base_uri": "https://localhost:8080/"
        },
        "id": "CfCGlMsxvKPG",
        "outputId": "bcfacfa3-3c85-4ef7-9d6e-acce3d92b43f"
      },
      "execution_count": null,
      "outputs": [
        {
          "output_type": "stream",
          "name": "stdout",
          "text": [
            "[4.76219148e-03 8.69579625e-04 1.89215189e-03 4.57618975e-02\n",
            " 7.64973058e-01 2.11240192e-02 8.14294591e-03 4.19689085e-03\n",
            " 2.32882218e-03 1.25246016e-02 1.02077610e-02 3.31621999e-03\n",
            " 1.57307000e-03 7.62065215e-04 1.73746076e-03 1.68455260e-03\n",
            " 1.76351016e-02 7.21170458e-03 2.72378399e-02 6.20580660e-02]\n",
            "Feature ranking:\n",
            "1. MolLogP (Importance: 0.764973)\n",
            "2. BertzCT (Importance: 0.062058)\n",
            "3. MolWt (Importance: 0.045762)\n",
            "4. BalabanJ (Importance: 0.027238)\n",
            "5. MolMR (Importance: 0.021124)\n",
            "6. TPSA (Importance: 0.017635)\n",
            "7. NumHeteroatoms (Importance: 0.012525)\n",
            "8. NumRotatableBonds (Importance: 0.010208)\n",
            "9. HeavyAtomCount (Importance: 0.008143)\n",
            "10. LabuteASA (Importance: 0.007212)\n"
          ]
        }
      ]
    },
    {
      "cell_type": "markdown",
      "source": [
        "# Save the model："
      ],
      "metadata": {
        "id": "7CL6YXiS0eag"
      }
    },
    {
      "cell_type": "code",
      "source": [
        "import joblib\n",
        "\n",
        "# Save the model\n",
        "joblib.dump(best_model, \"best_decision_tree_model.pkl\")\n",
        "\n",
        "# Load the model\n",
        "loaded_model = joblib.load(\"best_decision_tree_model.pkl\")"
      ],
      "metadata": {
        "id": "jtvkR90t0g3_"
      },
      "execution_count": null,
      "outputs": []
    },
    {
      "cell_type": "markdown",
      "source": [
        "## Support Vector Regression (SVR):\n"
      ],
      "metadata": {
        "id": "k57wSks02gRo"
      }
    },
    {
      "cell_type": "code",
      "source": [
        "from sklearn.svm import SVR\n",
        "x_train = np.array(x_tr)  # feature\n",
        "y_train = np.array(y_tr)  # Target value.\n",
        "\n",
        "# Create an SVR (Support Vector Regression) model\n",
        "model = SVR(C=1.0, epsilon=0.1, kernel='rbf')\n",
        "\n",
        "# Train the model\n",
        "model.fit(x_train, y_train)"
      ],
      "metadata": {
        "colab": {
          "base_uri": "https://localhost:8080/",
          "height": 80
        },
        "id": "mXIhbquL35pa",
        "outputId": "3385a3da-db4d-487b-967e-3e1b31d45d6f"
      },
      "execution_count": null,
      "outputs": [
        {
          "output_type": "execute_result",
          "data": {
            "text/plain": [
              "SVR()"
            ],
            "text/html": [
              "<style>#sk-container-id-2 {\n",
              "  /* Definition of color scheme common for light and dark mode */\n",
              "  --sklearn-color-text: #000;\n",
              "  --sklearn-color-text-muted: #666;\n",
              "  --sklearn-color-line: gray;\n",
              "  /* Definition of color scheme for unfitted estimators */\n",
              "  --sklearn-color-unfitted-level-0: #fff5e6;\n",
              "  --sklearn-color-unfitted-level-1: #f6e4d2;\n",
              "  --sklearn-color-unfitted-level-2: #ffe0b3;\n",
              "  --sklearn-color-unfitted-level-3: chocolate;\n",
              "  /* Definition of color scheme for fitted estimators */\n",
              "  --sklearn-color-fitted-level-0: #f0f8ff;\n",
              "  --sklearn-color-fitted-level-1: #d4ebff;\n",
              "  --sklearn-color-fitted-level-2: #b3dbfd;\n",
              "  --sklearn-color-fitted-level-3: cornflowerblue;\n",
              "\n",
              "  /* Specific color for light theme */\n",
              "  --sklearn-color-text-on-default-background: var(--sg-text-color, var(--theme-code-foreground, var(--jp-content-font-color1, black)));\n",
              "  --sklearn-color-background: var(--sg-background-color, var(--theme-background, var(--jp-layout-color0, white)));\n",
              "  --sklearn-color-border-box: var(--sg-text-color, var(--theme-code-foreground, var(--jp-content-font-color1, black)));\n",
              "  --sklearn-color-icon: #696969;\n",
              "\n",
              "  @media (prefers-color-scheme: dark) {\n",
              "    /* Redefinition of color scheme for dark theme */\n",
              "    --sklearn-color-text-on-default-background: var(--sg-text-color, var(--theme-code-foreground, var(--jp-content-font-color1, white)));\n",
              "    --sklearn-color-background: var(--sg-background-color, var(--theme-background, var(--jp-layout-color0, #111)));\n",
              "    --sklearn-color-border-box: var(--sg-text-color, var(--theme-code-foreground, var(--jp-content-font-color1, white)));\n",
              "    --sklearn-color-icon: #878787;\n",
              "  }\n",
              "}\n",
              "\n",
              "#sk-container-id-2 {\n",
              "  color: var(--sklearn-color-text);\n",
              "}\n",
              "\n",
              "#sk-container-id-2 pre {\n",
              "  padding: 0;\n",
              "}\n",
              "\n",
              "#sk-container-id-2 input.sk-hidden--visually {\n",
              "  border: 0;\n",
              "  clip: rect(1px 1px 1px 1px);\n",
              "  clip: rect(1px, 1px, 1px, 1px);\n",
              "  height: 1px;\n",
              "  margin: -1px;\n",
              "  overflow: hidden;\n",
              "  padding: 0;\n",
              "  position: absolute;\n",
              "  width: 1px;\n",
              "}\n",
              "\n",
              "#sk-container-id-2 div.sk-dashed-wrapped {\n",
              "  border: 1px dashed var(--sklearn-color-line);\n",
              "  margin: 0 0.4em 0.5em 0.4em;\n",
              "  box-sizing: border-box;\n",
              "  padding-bottom: 0.4em;\n",
              "  background-color: var(--sklearn-color-background);\n",
              "}\n",
              "\n",
              "#sk-container-id-2 div.sk-container {\n",
              "  /* jupyter's `normalize.less` sets `[hidden] { display: none; }`\n",
              "     but bootstrap.min.css set `[hidden] { display: none !important; }`\n",
              "     so we also need the `!important` here to be able to override the\n",
              "     default hidden behavior on the sphinx rendered scikit-learn.org.\n",
              "     See: https://github.com/scikit-learn/scikit-learn/issues/21755 */\n",
              "  display: inline-block !important;\n",
              "  position: relative;\n",
              "}\n",
              "\n",
              "#sk-container-id-2 div.sk-text-repr-fallback {\n",
              "  display: none;\n",
              "}\n",
              "\n",
              "div.sk-parallel-item,\n",
              "div.sk-serial,\n",
              "div.sk-item {\n",
              "  /* draw centered vertical line to link estimators */\n",
              "  background-image: linear-gradient(var(--sklearn-color-text-on-default-background), var(--sklearn-color-text-on-default-background));\n",
              "  background-size: 2px 100%;\n",
              "  background-repeat: no-repeat;\n",
              "  background-position: center center;\n",
              "}\n",
              "\n",
              "/* Parallel-specific style estimator block */\n",
              "\n",
              "#sk-container-id-2 div.sk-parallel-item::after {\n",
              "  content: \"\";\n",
              "  width: 100%;\n",
              "  border-bottom: 2px solid var(--sklearn-color-text-on-default-background);\n",
              "  flex-grow: 1;\n",
              "}\n",
              "\n",
              "#sk-container-id-2 div.sk-parallel {\n",
              "  display: flex;\n",
              "  align-items: stretch;\n",
              "  justify-content: center;\n",
              "  background-color: var(--sklearn-color-background);\n",
              "  position: relative;\n",
              "}\n",
              "\n",
              "#sk-container-id-2 div.sk-parallel-item {\n",
              "  display: flex;\n",
              "  flex-direction: column;\n",
              "}\n",
              "\n",
              "#sk-container-id-2 div.sk-parallel-item:first-child::after {\n",
              "  align-self: flex-end;\n",
              "  width: 50%;\n",
              "}\n",
              "\n",
              "#sk-container-id-2 div.sk-parallel-item:last-child::after {\n",
              "  align-self: flex-start;\n",
              "  width: 50%;\n",
              "}\n",
              "\n",
              "#sk-container-id-2 div.sk-parallel-item:only-child::after {\n",
              "  width: 0;\n",
              "}\n",
              "\n",
              "/* Serial-specific style estimator block */\n",
              "\n",
              "#sk-container-id-2 div.sk-serial {\n",
              "  display: flex;\n",
              "  flex-direction: column;\n",
              "  align-items: center;\n",
              "  background-color: var(--sklearn-color-background);\n",
              "  padding-right: 1em;\n",
              "  padding-left: 1em;\n",
              "}\n",
              "\n",
              "\n",
              "/* Toggleable style: style used for estimator/Pipeline/ColumnTransformer box that is\n",
              "clickable and can be expanded/collapsed.\n",
              "- Pipeline and ColumnTransformer use this feature and define the default style\n",
              "- Estimators will overwrite some part of the style using the `sk-estimator` class\n",
              "*/\n",
              "\n",
              "/* Pipeline and ColumnTransformer style (default) */\n",
              "\n",
              "#sk-container-id-2 div.sk-toggleable {\n",
              "  /* Default theme specific background. It is overwritten whether we have a\n",
              "  specific estimator or a Pipeline/ColumnTransformer */\n",
              "  background-color: var(--sklearn-color-background);\n",
              "}\n",
              "\n",
              "/* Toggleable label */\n",
              "#sk-container-id-2 label.sk-toggleable__label {\n",
              "  cursor: pointer;\n",
              "  display: flex;\n",
              "  width: 100%;\n",
              "  margin-bottom: 0;\n",
              "  padding: 0.5em;\n",
              "  box-sizing: border-box;\n",
              "  text-align: center;\n",
              "  align-items: start;\n",
              "  justify-content: space-between;\n",
              "  gap: 0.5em;\n",
              "}\n",
              "\n",
              "#sk-container-id-2 label.sk-toggleable__label .caption {\n",
              "  font-size: 0.6rem;\n",
              "  font-weight: lighter;\n",
              "  color: var(--sklearn-color-text-muted);\n",
              "}\n",
              "\n",
              "#sk-container-id-2 label.sk-toggleable__label-arrow:before {\n",
              "  /* Arrow on the left of the label */\n",
              "  content: \"▸\";\n",
              "  float: left;\n",
              "  margin-right: 0.25em;\n",
              "  color: var(--sklearn-color-icon);\n",
              "}\n",
              "\n",
              "#sk-container-id-2 label.sk-toggleable__label-arrow:hover:before {\n",
              "  color: var(--sklearn-color-text);\n",
              "}\n",
              "\n",
              "/* Toggleable content - dropdown */\n",
              "\n",
              "#sk-container-id-2 div.sk-toggleable__content {\n",
              "  max-height: 0;\n",
              "  max-width: 0;\n",
              "  overflow: hidden;\n",
              "  text-align: left;\n",
              "  /* unfitted */\n",
              "  background-color: var(--sklearn-color-unfitted-level-0);\n",
              "}\n",
              "\n",
              "#sk-container-id-2 div.sk-toggleable__content.fitted {\n",
              "  /* fitted */\n",
              "  background-color: var(--sklearn-color-fitted-level-0);\n",
              "}\n",
              "\n",
              "#sk-container-id-2 div.sk-toggleable__content pre {\n",
              "  margin: 0.2em;\n",
              "  border-radius: 0.25em;\n",
              "  color: var(--sklearn-color-text);\n",
              "  /* unfitted */\n",
              "  background-color: var(--sklearn-color-unfitted-level-0);\n",
              "}\n",
              "\n",
              "#sk-container-id-2 div.sk-toggleable__content.fitted pre {\n",
              "  /* unfitted */\n",
              "  background-color: var(--sklearn-color-fitted-level-0);\n",
              "}\n",
              "\n",
              "#sk-container-id-2 input.sk-toggleable__control:checked~div.sk-toggleable__content {\n",
              "  /* Expand drop-down */\n",
              "  max-height: 200px;\n",
              "  max-width: 100%;\n",
              "  overflow: auto;\n",
              "}\n",
              "\n",
              "#sk-container-id-2 input.sk-toggleable__control:checked~label.sk-toggleable__label-arrow:before {\n",
              "  content: \"▾\";\n",
              "}\n",
              "\n",
              "/* Pipeline/ColumnTransformer-specific style */\n",
              "\n",
              "#sk-container-id-2 div.sk-label input.sk-toggleable__control:checked~label.sk-toggleable__label {\n",
              "  color: var(--sklearn-color-text);\n",
              "  background-color: var(--sklearn-color-unfitted-level-2);\n",
              "}\n",
              "\n",
              "#sk-container-id-2 div.sk-label.fitted input.sk-toggleable__control:checked~label.sk-toggleable__label {\n",
              "  background-color: var(--sklearn-color-fitted-level-2);\n",
              "}\n",
              "\n",
              "/* Estimator-specific style */\n",
              "\n",
              "/* Colorize estimator box */\n",
              "#sk-container-id-2 div.sk-estimator input.sk-toggleable__control:checked~label.sk-toggleable__label {\n",
              "  /* unfitted */\n",
              "  background-color: var(--sklearn-color-unfitted-level-2);\n",
              "}\n",
              "\n",
              "#sk-container-id-2 div.sk-estimator.fitted input.sk-toggleable__control:checked~label.sk-toggleable__label {\n",
              "  /* fitted */\n",
              "  background-color: var(--sklearn-color-fitted-level-2);\n",
              "}\n",
              "\n",
              "#sk-container-id-2 div.sk-label label.sk-toggleable__label,\n",
              "#sk-container-id-2 div.sk-label label {\n",
              "  /* The background is the default theme color */\n",
              "  color: var(--sklearn-color-text-on-default-background);\n",
              "}\n",
              "\n",
              "/* On hover, darken the color of the background */\n",
              "#sk-container-id-2 div.sk-label:hover label.sk-toggleable__label {\n",
              "  color: var(--sklearn-color-text);\n",
              "  background-color: var(--sklearn-color-unfitted-level-2);\n",
              "}\n",
              "\n",
              "/* Label box, darken color on hover, fitted */\n",
              "#sk-container-id-2 div.sk-label.fitted:hover label.sk-toggleable__label.fitted {\n",
              "  color: var(--sklearn-color-text);\n",
              "  background-color: var(--sklearn-color-fitted-level-2);\n",
              "}\n",
              "\n",
              "/* Estimator label */\n",
              "\n",
              "#sk-container-id-2 div.sk-label label {\n",
              "  font-family: monospace;\n",
              "  font-weight: bold;\n",
              "  display: inline-block;\n",
              "  line-height: 1.2em;\n",
              "}\n",
              "\n",
              "#sk-container-id-2 div.sk-label-container {\n",
              "  text-align: center;\n",
              "}\n",
              "\n",
              "/* Estimator-specific */\n",
              "#sk-container-id-2 div.sk-estimator {\n",
              "  font-family: monospace;\n",
              "  border: 1px dotted var(--sklearn-color-border-box);\n",
              "  border-radius: 0.25em;\n",
              "  box-sizing: border-box;\n",
              "  margin-bottom: 0.5em;\n",
              "  /* unfitted */\n",
              "  background-color: var(--sklearn-color-unfitted-level-0);\n",
              "}\n",
              "\n",
              "#sk-container-id-2 div.sk-estimator.fitted {\n",
              "  /* fitted */\n",
              "  background-color: var(--sklearn-color-fitted-level-0);\n",
              "}\n",
              "\n",
              "/* on hover */\n",
              "#sk-container-id-2 div.sk-estimator:hover {\n",
              "  /* unfitted */\n",
              "  background-color: var(--sklearn-color-unfitted-level-2);\n",
              "}\n",
              "\n",
              "#sk-container-id-2 div.sk-estimator.fitted:hover {\n",
              "  /* fitted */\n",
              "  background-color: var(--sklearn-color-fitted-level-2);\n",
              "}\n",
              "\n",
              "/* Specification for estimator info (e.g. \"i\" and \"?\") */\n",
              "\n",
              "/* Common style for \"i\" and \"?\" */\n",
              "\n",
              ".sk-estimator-doc-link,\n",
              "a:link.sk-estimator-doc-link,\n",
              "a:visited.sk-estimator-doc-link {\n",
              "  float: right;\n",
              "  font-size: smaller;\n",
              "  line-height: 1em;\n",
              "  font-family: monospace;\n",
              "  background-color: var(--sklearn-color-background);\n",
              "  border-radius: 1em;\n",
              "  height: 1em;\n",
              "  width: 1em;\n",
              "  text-decoration: none !important;\n",
              "  margin-left: 0.5em;\n",
              "  text-align: center;\n",
              "  /* unfitted */\n",
              "  border: var(--sklearn-color-unfitted-level-1) 1pt solid;\n",
              "  color: var(--sklearn-color-unfitted-level-1);\n",
              "}\n",
              "\n",
              ".sk-estimator-doc-link.fitted,\n",
              "a:link.sk-estimator-doc-link.fitted,\n",
              "a:visited.sk-estimator-doc-link.fitted {\n",
              "  /* fitted */\n",
              "  border: var(--sklearn-color-fitted-level-1) 1pt solid;\n",
              "  color: var(--sklearn-color-fitted-level-1);\n",
              "}\n",
              "\n",
              "/* On hover */\n",
              "div.sk-estimator:hover .sk-estimator-doc-link:hover,\n",
              ".sk-estimator-doc-link:hover,\n",
              "div.sk-label-container:hover .sk-estimator-doc-link:hover,\n",
              ".sk-estimator-doc-link:hover {\n",
              "  /* unfitted */\n",
              "  background-color: var(--sklearn-color-unfitted-level-3);\n",
              "  color: var(--sklearn-color-background);\n",
              "  text-decoration: none;\n",
              "}\n",
              "\n",
              "div.sk-estimator.fitted:hover .sk-estimator-doc-link.fitted:hover,\n",
              ".sk-estimator-doc-link.fitted:hover,\n",
              "div.sk-label-container:hover .sk-estimator-doc-link.fitted:hover,\n",
              ".sk-estimator-doc-link.fitted:hover {\n",
              "  /* fitted */\n",
              "  background-color: var(--sklearn-color-fitted-level-3);\n",
              "  color: var(--sklearn-color-background);\n",
              "  text-decoration: none;\n",
              "}\n",
              "\n",
              "/* Span, style for the box shown on hovering the info icon */\n",
              ".sk-estimator-doc-link span {\n",
              "  display: none;\n",
              "  z-index: 9999;\n",
              "  position: relative;\n",
              "  font-weight: normal;\n",
              "  right: .2ex;\n",
              "  padding: .5ex;\n",
              "  margin: .5ex;\n",
              "  width: min-content;\n",
              "  min-width: 20ex;\n",
              "  max-width: 50ex;\n",
              "  color: var(--sklearn-color-text);\n",
              "  box-shadow: 2pt 2pt 4pt #999;\n",
              "  /* unfitted */\n",
              "  background: var(--sklearn-color-unfitted-level-0);\n",
              "  border: .5pt solid var(--sklearn-color-unfitted-level-3);\n",
              "}\n",
              "\n",
              ".sk-estimator-doc-link.fitted span {\n",
              "  /* fitted */\n",
              "  background: var(--sklearn-color-fitted-level-0);\n",
              "  border: var(--sklearn-color-fitted-level-3);\n",
              "}\n",
              "\n",
              ".sk-estimator-doc-link:hover span {\n",
              "  display: block;\n",
              "}\n",
              "\n",
              "/* \"?\"-specific style due to the `<a>` HTML tag */\n",
              "\n",
              "#sk-container-id-2 a.estimator_doc_link {\n",
              "  float: right;\n",
              "  font-size: 1rem;\n",
              "  line-height: 1em;\n",
              "  font-family: monospace;\n",
              "  background-color: var(--sklearn-color-background);\n",
              "  border-radius: 1rem;\n",
              "  height: 1rem;\n",
              "  width: 1rem;\n",
              "  text-decoration: none;\n",
              "  /* unfitted */\n",
              "  color: var(--sklearn-color-unfitted-level-1);\n",
              "  border: var(--sklearn-color-unfitted-level-1) 1pt solid;\n",
              "}\n",
              "\n",
              "#sk-container-id-2 a.estimator_doc_link.fitted {\n",
              "  /* fitted */\n",
              "  border: var(--sklearn-color-fitted-level-1) 1pt solid;\n",
              "  color: var(--sklearn-color-fitted-level-1);\n",
              "}\n",
              "\n",
              "/* On hover */\n",
              "#sk-container-id-2 a.estimator_doc_link:hover {\n",
              "  /* unfitted */\n",
              "  background-color: var(--sklearn-color-unfitted-level-3);\n",
              "  color: var(--sklearn-color-background);\n",
              "  text-decoration: none;\n",
              "}\n",
              "\n",
              "#sk-container-id-2 a.estimator_doc_link.fitted:hover {\n",
              "  /* fitted */\n",
              "  background-color: var(--sklearn-color-fitted-level-3);\n",
              "}\n",
              "</style><div id=\"sk-container-id-2\" class=\"sk-top-container\"><div class=\"sk-text-repr-fallback\"><pre>SVR()</pre><b>In a Jupyter environment, please rerun this cell to show the HTML representation or trust the notebook. <br />On GitHub, the HTML representation is unable to render, please try loading this page with nbviewer.org.</b></div><div class=\"sk-container\" hidden><div class=\"sk-item\"><div class=\"sk-estimator fitted sk-toggleable\"><input class=\"sk-toggleable__control sk-hidden--visually\" id=\"sk-estimator-id-2\" type=\"checkbox\" checked><label for=\"sk-estimator-id-2\" class=\"sk-toggleable__label fitted sk-toggleable__label-arrow\"><div><div>SVR</div></div><div><a class=\"sk-estimator-doc-link fitted\" rel=\"noreferrer\" target=\"_blank\" href=\"https://scikit-learn.org/1.6/modules/generated/sklearn.svm.SVR.html\">?<span>Documentation for SVR</span></a><span class=\"sk-estimator-doc-link fitted\">i<span>Fitted</span></span></div></label><div class=\"sk-toggleable__content fitted\"><pre>SVR()</pre></div> </div></div></div></div>"
            ]
          },
          "metadata": {},
          "execution_count": 29
        }
      ]
    },
    {
      "cell_type": "markdown",
      "source": [
        "##Make predictions using the trained model:"
      ],
      "metadata": {
        "id": "LtgJatHA9Dj2"
      }
    },
    {
      "cell_type": "code",
      "source": [
        "\n",
        "x_test = np.array([x_ts])\n",
        "y_pred = model.predict(x_ts)\n",
        "\n",
        "print(f\"Predicted values: {y_pred}\")"
      ],
      "metadata": {
        "colab": {
          "base_uri": "https://localhost:8080/"
        },
        "id": "qcXuSNa682_H",
        "outputId": "2992b31c-1e71-4b87-9659-53842ac2dd57"
      },
      "execution_count": null,
      "outputs": [
        {
          "output_type": "stream",
          "name": "stderr",
          "text": [
            "/usr/local/lib/python3.11/dist-packages/sklearn/utils/validation.py:2732: UserWarning: X has feature names, but SVR was fitted without feature names\n",
            "  warnings.warn(\n"
          ]
        },
        {
          "output_type": "stream",
          "name": "stdout",
          "text": [
            "Predicted values: [-4.56771951 -3.58916373 -3.03590551 ... -3.0322275  -1.60765545\n",
            " -1.89535168]\n"
          ]
        }
      ]
    },
    {
      "cell_type": "markdown",
      "source": [
        "## Evaluate the model's performance:"
      ],
      "metadata": {
        "id": "1dxKQf1R7VSz"
      }
    },
    {
      "cell_type": "code",
      "source": [
        "from sklearn.metrics import mean_squared_error, r2_score\n",
        "\n",
        "# Calculate the mean squared error(MSE)\n",
        "mse = mean_squared_error(y_ts, y_pred)\n",
        "print(\"the mean squared error (MSE):\", mse)\n",
        "\n",
        "# Calculate the coefficient of determination(R²)\n",
        "r2 = r2_score(y_ts, y_pred)\n",
        "print(\"the coefficient of determination (R²):\", r2)"
      ],
      "metadata": {
        "colab": {
          "base_uri": "https://localhost:8080/"
        },
        "id": "solw7V4c7Zny",
        "outputId": "d5f51eba-4095-489c-b810-89fff171f2af"
      },
      "execution_count": null,
      "outputs": [
        {
          "output_type": "stream",
          "name": "stdout",
          "text": [
            "the mean squared error (MSE): 2.450819514597282\n",
            "the coefficient of determination (R²): 0.5482064942589372\n"
          ]
        }
      ]
    },
    {
      "cell_type": "markdown",
      "source": [
        "the mean squared error (MSE): 2.450819514597282\n",
        "\n",
        "the coefficient of determination (R²): 0.5482064942589372"
      ],
      "metadata": {
        "id": "kA9AK4DQ9TZe"
      }
    }
  ]
}
